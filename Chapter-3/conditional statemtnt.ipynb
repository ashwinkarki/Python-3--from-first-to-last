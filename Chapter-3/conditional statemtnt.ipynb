{
 "cells": [
  {
   "cell_type": "code",
   "execution_count": 1,
   "metadata": {},
   "outputs": [
    {
     "name": "stdout",
     "output_type": "stream",
     "text": [
      "if true\n"
     ]
    }
   ],
   "source": [
    "#!/usr/bin/env python3\n",
    "# Copyright 2009-2017 BHG http://bw.org/\n",
    "\n",
    "if True:\n",
    "    print('if true')\n",
    "elif False:\n",
    "    print('elif true')\n",
    "else:\n",
    "    print('neither true')\n"
   ]
  },
  {
   "cell_type": "code",
   "execution_count": 2,
   "metadata": {},
   "outputs": [
    {
     "name": "stdout",
     "output_type": "stream",
     "text": [
      "neither true\n"
     ]
    }
   ],
   "source": [
    "if False:\n",
    "    print('if true')\n",
    "elif False:\n",
    "    print('elif true')\n",
    "else:\n",
    "    print('neither true')\n"
   ]
  },
  {
   "cell_type": "code",
   "execution_count": 5,
   "metadata": {},
   "outputs": [
    {
     "name": "stdout",
     "output_type": "stream",
     "text": [
      "Feed the bear now!\n"
     ]
    }
   ],
   "source": [
    "#ternary\n",
    "\n",
    "hungry = True\n",
    "x = 'Feed the bear now!' if hungry else 'Do not feed the bear.'\n",
    "print(x)\n"
   ]
  },
  {
   "cell_type": "code",
   "execution_count": null,
   "metadata": {},
   "outputs": [],
   "source": []
  }
 ],
 "metadata": {
  "kernelspec": {
   "display_name": "Python 3",
   "language": "python",
   "name": "python3"
  },
  "language_info": {
   "codemirror_mode": {
    "name": "ipython",
    "version": 3
   },
   "file_extension": ".py",
   "mimetype": "text/x-python",
   "name": "python",
   "nbconvert_exporter": "python",
   "pygments_lexer": "ipython3",
   "version": "3.8.2"
  }
 },
 "nbformat": 4,
 "nbformat_minor": 4
}
