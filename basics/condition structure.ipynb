{
 "cells": [
  {
   "cell_type": "code",
   "execution_count": 10,
   "metadata": {},
   "outputs": [
    {
     "name": "stdout",
     "output_type": "stream",
     "text": [
      "x is equal to y\n",
      "x is greater than y or same as y\n"
     ]
    }
   ],
   "source": [
    "#\n",
    "# Example file for working with conditional statements\n",
    "#\n",
    "\n",
    "def main():\n",
    "    x, y = 100, 100\n",
    "  \n",
    "  # conditional flow uses if, elif, else  \n",
    "    if(x<y):\n",
    "        st=\"x is less than y\"\n",
    "    elif(x==y):\n",
    "        st=\"x is equal to y\"\n",
    "    else:\n",
    "        st=\"x is greater than y\"\n",
    "    print(st)\n",
    "    \n",
    "  # conditional statements let you use \"a if C else b\"\n",
    "    st=\"x is less than y\" if (x<y) else \"x is greater than y or same as y\" \n",
    "    print(st)\n",
    "\n",
    "if __name__ == \"__main__\":main()\n"
   ]
  },
  {
   "cell_type": "code",
   "execution_count": null,
   "metadata": {},
   "outputs": [],
   "source": []
  }
 ],
 "metadata": {
  "kernelspec": {
   "display_name": "Python 3",
   "language": "python",
   "name": "python3"
  },
  "language_info": {
   "codemirror_mode": {
    "name": "ipython",
    "version": 3
   },
   "file_extension": ".py",
   "mimetype": "text/x-python",
   "name": "python",
   "nbconvert_exporter": "python",
   "pygments_lexer": "ipython3",
   "version": "3.8.2"
  }
 },
 "nbformat": 4,
 "nbformat_minor": 4
}
