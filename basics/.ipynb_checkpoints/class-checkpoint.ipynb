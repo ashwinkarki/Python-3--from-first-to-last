{
 "cells": [
  {
   "cell_type": "code",
   "execution_count": 12,
   "metadata": {},
   "outputs": [
    {
     "name": "stdout",
     "output_type": "stream",
     "text": [
      "my class method 1\n",
      "my class method2 withthis is some string\n",
      "my class method 1\n",
      "anotehre class method 1\n",
      "another class method2 with\n"
     ]
    }
   ],
   "source": [
    "#\n",
    "# Example file for working with classes\n",
    "#\n",
    "\n",
    "class myClass():\n",
    "    def method1(self):\n",
    "        print('my class method 1')\n",
    "    \n",
    "    def method2(self,someString):\n",
    "        print('my class method2 with'+someString)\n",
    "\n",
    "class anotherCLass(myClass):\n",
    "    def method1(self):\n",
    "        myClass.method1(self)\n",
    "        print('anotehre class method 1')\n",
    "    \n",
    "    #method overriding\n",
    "    def method2(self,someString):\n",
    "        print('another class method2 with')        \n",
    "    \n",
    "def main():\n",
    "    c=myClass()\n",
    "    c.method1()\n",
    "    c.method2(\"this is some string\")   \n",
    "    \n",
    "    c2=anotherCLass()\n",
    "    c2.method1()\n",
    "    c2.method2('abc')\n",
    "  \n",
    "if __name__ == \"__main__\":\n",
    "  main()\n"
   ]
  },
  {
   "cell_type": "code",
   "execution_count": null,
   "metadata": {},
   "outputs": [],
   "source": []
  }
 ],
 "metadata": {
  "kernelspec": {
   "display_name": "Python 3",
   "language": "python",
   "name": "python3"
  },
  "language_info": {
   "codemirror_mode": {
    "name": "ipython",
    "version": 3
   },
   "file_extension": ".py",
   "mimetype": "text/x-python",
   "name": "python",
   "nbconvert_exporter": "python",
   "pygments_lexer": "ipython3",
   "version": "3.8.2"
  }
 },
 "nbformat": 4,
 "nbformat_minor": 4
}
