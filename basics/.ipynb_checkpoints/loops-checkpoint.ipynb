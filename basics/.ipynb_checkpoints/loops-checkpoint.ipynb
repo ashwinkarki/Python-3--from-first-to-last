{
 "cells": [
  {
   "cell_type": "code",
   "execution_count": 18,
   "metadata": {},
   "outputs": [
    {
     "name": "stdout",
     "output_type": "stream",
     "text": [
      "0\n",
      "1\n",
      "2\n",
      "3\n",
      "4\n",
      "5\n",
      "6\n",
      "7\n",
      "8\n",
      "9\n",
      "Mon\n",
      "Tue\n",
      "Wed\n",
      "Thu\n",
      "Fri\n",
      "Sat\n",
      "break and continue\n",
      "5\n",
      "7\n",
      "9\n",
      "0 Mon\n",
      "1 Tue\n",
      "2 Wed\n",
      "3 Thu\n",
      "4 Fri\n",
      "5 Sat\n"
     ]
    }
   ],
   "source": [
    "#\n",
    "# Example file for working with loops\n",
    "#\n",
    "\n",
    "def main():\n",
    "  x = 0\n",
    "\n",
    "  # define a while loop\n",
    "  while(x<5):\n",
    "    print(x)\n",
    "    x=x+1\n",
    "    \n",
    "\n",
    "  # define a for loop\n",
    "  for x in range(5,10):\n",
    "        print(x)\n",
    "\n",
    "  # use a for loop over a collection\n",
    "  days=[\"Mon\",\"Tue\",\"Wed\",\"Thu\",\"Fri\",\"Sat\"]\n",
    "  for d in days:\n",
    "    print(d)\n",
    "    \n",
    " \n",
    "  # use the break and continue statements\n",
    "  print('break and continue')    \n",
    "  for x in range(5,10):\n",
    "    #if x==7: break\n",
    "    if(x%2==0):continue\n",
    "    print(x)\n",
    "\n",
    "  #using the enumerate() function to get index \n",
    "  for i,d in enumerate(days):\n",
    "    print(i,d)\n",
    "\n",
    "if __name__ == \"__main__\":\n",
    "  main()\n"
   ]
  },
  {
   "cell_type": "code",
   "execution_count": null,
   "metadata": {},
   "outputs": [],
   "source": []
  }
 ],
 "metadata": {
  "kernelspec": {
   "display_name": "Python 3",
   "language": "python",
   "name": "python3"
  },
  "language_info": {
   "codemirror_mode": {
    "name": "ipython",
    "version": 3
   },
   "file_extension": ".py",
   "mimetype": "text/x-python",
   "name": "python",
   "nbconvert_exporter": "python",
   "pygments_lexer": "ipython3",
   "version": "3.8.2"
  }
 },
 "nbformat": 4,
 "nbformat_minor": 4
}
