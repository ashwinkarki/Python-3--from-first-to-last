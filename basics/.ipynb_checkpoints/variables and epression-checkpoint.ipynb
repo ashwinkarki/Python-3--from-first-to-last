{
 "cells": [
  {
   "cell_type": "code",
   "execution_count": 4,
   "metadata": {},
   "outputs": [
    {
     "name": "stdout",
     "output_type": "stream",
     "text": [
      "0\n",
      "abc\n",
      "this is a string123\n",
      "ashwin\n",
      "abc\n"
     ]
    }
   ],
   "source": [
    "# \n",
    "# Example file for variables\n",
    "#\n",
    "\n",
    "# Declare a variable and initialize it\n",
    "#global variable\n",
    "f=0\n",
    "print(f)\n",
    "\n",
    "# # re-declaring the variable works\n",
    "f=\"abc\"\n",
    "print(f)\n",
    "\n",
    "# # ERROR: variables of different types cannot be combined\n",
    "#string and int cannot be concatened\n",
    "#print(\"this is a string\"+123)\n",
    "\n",
    "print(\"this is a string\"+ str(123))\n",
    "\n",
    "# Global vs. local variables in functions\n",
    "def someFunction():\n",
    "    #local variable\n",
    "    f=\"ashwin\"\n",
    "    print(f)\n",
    "\n",
    "someFunction()\n",
    "print(f)"
   ]
  },
  {
   "cell_type": "code",
   "execution_count": 9,
   "metadata": {},
   "outputs": [
    {
     "name": "stdout",
     "output_type": "stream",
     "text": [
      "0\n",
      "abc\n",
      "this is a string123\n",
      "ash\n",
      "ash\n"
     ]
    },
    {
     "ename": "NameError",
     "evalue": "name 'f' is not defined",
     "output_type": "error",
     "traceback": [
      "\u001b[1;31m---------------------------------------------------------------------------\u001b[0m",
      "\u001b[1;31mNameError\u001b[0m                                 Traceback (most recent call last)",
      "\u001b[1;32m<ipython-input-9-fbe777bbb1b2>\u001b[0m in \u001b[0;36m<module>\u001b[1;34m\u001b[0m\n\u001b[0;32m     29\u001b[0m \u001b[1;33m\u001b[0m\u001b[0m\n\u001b[0;32m     30\u001b[0m \u001b[1;32mdel\u001b[0m \u001b[0mf\u001b[0m\u001b[1;33m\u001b[0m\u001b[1;33m\u001b[0m\u001b[0m\n\u001b[1;32m---> 31\u001b[1;33m \u001b[0mprint\u001b[0m\u001b[1;33m(\u001b[0m\u001b[0mf\u001b[0m\u001b[1;33m)\u001b[0m\u001b[1;33m\u001b[0m\u001b[1;33m\u001b[0m\u001b[0m\n\u001b[0m",
      "\u001b[1;31mNameError\u001b[0m: name 'f' is not defined"
     ]
    }
   ],
   "source": [
    "# \n",
    "# Example file for variables\n",
    "#\n",
    "\n",
    "# Declare a variable and initialize it\n",
    "#global variable\n",
    "f=0\n",
    "print(f)\n",
    "\n",
    "# # re-declaring the variable works\n",
    "f=\"abc\"\n",
    "print(f)\n",
    "\n",
    "# # ERROR: variables of different types cannot be combined\n",
    "#string and int cannot be concatened\n",
    "#print(\"this is a string\"+123)\n",
    "\n",
    "print(\"this is a string\"+ str(123))\n",
    "\n",
    "# Global vs. local variables in functions\n",
    "def someFunction():\n",
    "    #making f global\n",
    "    global f\n",
    "    f=\"ash\"\n",
    "    print(f)\n",
    "\n",
    "someFunction()\n",
    "print(f)\n",
    "\n",
    "del f \n",
    "print(f)"
   ]
  },
  {
   "cell_type": "code",
   "execution_count": null,
   "metadata": {},
   "outputs": [],
   "source": []
  }
 ],
 "metadata": {
  "kernelspec": {
   "display_name": "Python 3",
   "language": "python",
   "name": "python3"
  },
  "language_info": {
   "codemirror_mode": {
    "name": "ipython",
    "version": 3
   },
   "file_extension": ".py",
   "mimetype": "text/x-python",
   "name": "python",
   "nbconvert_exporter": "python",
   "pygments_lexer": "ipython3",
   "version": "3.8.2"
  }
 },
 "nbformat": 4,
 "nbformat_minor": 4
}
