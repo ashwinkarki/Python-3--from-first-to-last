{
 "cells": [
  {
   "cell_type": "code",
   "execution_count": 7,
   "metadata": {},
   "outputs": [
    {
     "name": "stdout",
     "output_type": "stream",
     "text": [
      "i am a fuction\n",
      "i am a fuction\n",
      "None\n",
      "<function func1 at 0x0000023D628E2280>\n",
      "10   20\n",
      "27\n",
      "2\n",
      "16\n",
      "16\n",
      "15\n"
     ]
    }
   ],
   "source": [
    "#\n",
    "# Example file for working with functions\n",
    "#\n",
    "\n",
    "# define a basic function\n",
    "def func1():\n",
    "    print('i am a fuction')\n",
    "\n",
    "# function that takes arguments\n",
    "def func2(arg1,arg2):\n",
    "    print(arg1,\" \",arg2)\n",
    "    \n",
    "\n",
    "# function that returns a value\n",
    "def cube(x):\n",
    "    return x*x*x\n",
    "\n",
    "# function with default value for an argument\n",
    "def power(num,x=1):\n",
    "    result=1\n",
    "    for i in range(x):\n",
    "        result=result * num\n",
    "    return result    \n",
    "\n",
    "\n",
    "#function with variable number of arguments\n",
    "def multi_add(*args):\n",
    "    result=0\n",
    "    for i in args:\n",
    "        result=result+i\n",
    "    return result    \n",
    "\n",
    "\n",
    "\n",
    "func1()\n",
    "print(func1())\n",
    "print(func1)\n",
    "\n",
    "func2(10,20)\n",
    "print(cube(3))\n",
    "\n",
    "print(power(2))\n",
    "print(power(2,4))\n",
    "\n",
    "#exchaging argument\n",
    "print(power(x=2,num=4))\n",
    "\n",
    "print(multi_add(1,2,3,4,5))"
   ]
  },
  {
   "cell_type": "code",
   "execution_count": null,
   "metadata": {},
   "outputs": [],
   "source": []
  }
 ],
 "metadata": {
  "kernelspec": {
   "display_name": "Python 3",
   "language": "python",
   "name": "python3"
  },
  "language_info": {
   "codemirror_mode": {
    "name": "ipython",
    "version": 3
   },
   "file_extension": ".py",
   "mimetype": "text/x-python",
   "name": "python",
   "nbconvert_exporter": "python",
   "pygments_lexer": "ipython3",
   "version": "3.8.2"
  }
 },
 "nbformat": 4,
 "nbformat_minor": 4
}
