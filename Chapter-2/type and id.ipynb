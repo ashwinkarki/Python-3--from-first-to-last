{
 "cells": [
  {
   "cell_type": "code",
   "execution_count": 1,
   "metadata": {},
   "outputs": [
    {
     "name": "stdout",
     "output_type": "stream",
     "text": [
      "x is (1, 'two', 3.0, [4, 'four'], 5)\n",
      "<class 'tuple'>\n"
     ]
    }
   ],
   "source": [
    "#!/usr/bin/env python3\n",
    "# Copyright 2009-2017 BHG http://bw.org/\n",
    "\n",
    "x = (1,'two',3.0,[4,'four'],5)\n",
    "print('x is {}'.format(x))\n",
    "print(type(x))\n"
   ]
  },
  {
   "cell_type": "code",
   "execution_count": 3,
   "metadata": {},
   "outputs": [
    {
     "name": "stdout",
     "output_type": "stream",
     "text": [
      "x is (1, 'two', 3.0, [4, 'four'], 5)\n",
      "<class 'str'>\n"
     ]
    }
   ],
   "source": [
    "#!/usr/bin/env python3\n",
    "# Copyright 2009-2017 BHG http://bw.org/\n",
    "\n",
    "x = (1,'two',3.0,[4,'four'],5)\n",
    "print('x is {}'.format(x))\n",
    "print(type(x[1]))"
   ]
  },
  {
   "cell_type": "code",
   "execution_count": 6,
   "metadata": {},
   "outputs": [
    {
     "name": "stdout",
     "output_type": "stream",
     "text": [
      "x is (1, 'two', 3.0, [4, 'four'], 5)\n",
      "1989984667024\n",
      "1990040114336\n",
      "1989993998512\n",
      "1989993998512\n"
     ]
    }
   ],
   "source": [
    "x = (1,'two',3.0,[4,'four'],5)\n",
    "y = (1,'two',3.0,[4,'four'],5)\n",
    "print('x is {}'.format(x))\n",
    "#differernt id\n",
    "print(id(x))\n",
    "print(id(y))\n",
    "\n",
    "#same object 1 so same id \n",
    "print(id(x[1]))\n",
    "print(id(y[1]))"
   ]
  },
  {
   "cell_type": "code",
   "execution_count": 11,
   "metadata": {},
   "outputs": [
    {
     "name": "stdout",
     "output_type": "stream",
     "text": [
      "1990040114336\n",
      "1990021948336\n",
      "yep\n",
      "nope\n",
      "tupe\n"
     ]
    }
   ],
   "source": [
    "x = (1,'two',3.0,[4,'four'],5)\n",
    "y = (1,'two',3.0,[4,'four'],5)\n",
    "\n",
    "#differernt id\n",
    "print(id(x))\n",
    "print(id(y))\n",
    "\n",
    "if x[0] is y[0]:\n",
    "    print('yep')\n",
    "else:\n",
    "    print('nope')\n",
    "\n",
    "if x is y:\n",
    "    print('yep')\n",
    "else:\n",
    "    print('nope')\n",
    "    \n",
    "if isinstance(x,tuple):\n",
    "    print('tupe')\n",
    "elif isinstance(y,list):\n",
    "    print('LIst')\n",
    "else:\n",
    "    print('nope')\n",
    "    \n"
   ]
  },
  {
   "cell_type": "code",
   "execution_count": 12,
   "metadata": {},
   "outputs": [
    {
     "name": "stdout",
     "output_type": "stream",
     "text": [
      "LIst\n"
     ]
    }
   ],
   "source": [
    " z=[1,3,2]\n",
    "if isinstance(z,tuple):\n",
    "    print('tupe')\n",
    "elif isinstance(z,list):\n",
    "    print('LIst')\n",
    "else:\n",
    "    print('nope')\n",
    "    \n",
    "\n"
   ]
  },
  {
   "cell_type": "code",
   "execution_count": null,
   "metadata": {},
   "outputs": [],
   "source": []
  }
 ],
 "metadata": {
  "kernelspec": {
   "display_name": "Python 3",
   "language": "python",
   "name": "python3"
  },
  "language_info": {
   "codemirror_mode": {
    "name": "ipython",
    "version": 3
   },
   "file_extension": ".py",
   "mimetype": "text/x-python",
   "name": "python",
   "nbconvert_exporter": "python",
   "pygments_lexer": "ipython3",
   "version": "3.8.2"
  }
 },
 "nbformat": 4,
 "nbformat_minor": 4
}
