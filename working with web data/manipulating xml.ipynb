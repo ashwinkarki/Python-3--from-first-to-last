{
 "cells": [
  {
   "cell_type": "code",
   "execution_count": 9,
   "metadata": {},
   "outputs": [
    {
     "name": "stdout",
     "output_type": "stream",
     "text": [
      "#document\n",
      "person\n",
      "4 skills:\n",
      "JavaScript\n",
      "Python\n",
      "C#\n",
      "HTML\n",
      "5 skills:\n",
      "JavaScript\n",
      "Python\n",
      "C#\n",
      "HTML\n",
      "jQuery\n"
     ]
    }
   ],
   "source": [
    "# \n",
    "# Example file for parsing and processing XML\n",
    "#\n",
    "\n",
    "import xml.dom.minidom\n",
    "\n",
    "def main():\n",
    "  # use the parse() function to load and parse an XML file\n",
    "  doc = xml.dom.minidom.parse(\"samplexml.xml\")\n",
    "  \n",
    "  # print out the document node and the name of the first child tag\n",
    "  print (doc.nodeName)\n",
    "  print (doc.firstChild.tagName)\n",
    "  \n",
    "  # get a list of XML tags from the document and print each one\n",
    "  skills = doc.getElementsByTagName(\"skill\")\n",
    "  print (\"%d skills:\" % skills.length)\n",
    "  for skill in skills:\n",
    "    print (skill.getAttribute(\"name\"))\n",
    "    \n",
    "  # create a new XML tag and add it into the document\n",
    "  newSkill = doc.createElement(\"skill\")\n",
    "  newSkill.setAttribute(\"name\", \"jQuery\")\n",
    "  doc.firstChild.appendChild(newSkill)\n",
    "\n",
    "  skills = doc.getElementsByTagName(\"skill\")\n",
    "  print (\"%d skills:\" % skills.length)\n",
    "  for skill in skills:\n",
    "    print (skill.getAttribute(\"name\"))\n",
    "        \n",
    "if __name__ == \"__main__\":\n",
    "  main();\n",
    "\n"
   ]
  },
  {
   "cell_type": "code",
   "execution_count": null,
   "metadata": {},
   "outputs": [],
   "source": []
  }
 ],
 "metadata": {
  "kernelspec": {
   "display_name": "Python 3",
   "language": "python",
   "name": "python3"
  },
  "language_info": {
   "codemirror_mode": {
    "name": "ipython",
    "version": 3
   },
   "file_extension": ".py",
   "mimetype": "text/x-python",
   "name": "python",
   "nbconvert_exporter": "python",
   "pygments_lexer": "ipython3",
   "version": "3.8.2"
  }
 },
 "nbformat": 4,
 "nbformat_minor": 4
}
