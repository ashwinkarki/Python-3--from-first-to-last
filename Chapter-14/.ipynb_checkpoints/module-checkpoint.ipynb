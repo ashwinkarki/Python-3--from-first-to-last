{
 "cells": [
  {
   "cell_type": "code",
   "execution_count": 7,
   "metadata": {},
   "outputs": [
    {
     "name": "stdout",
     "output_type": "stream",
     "text": [
      "Python version 3.8.2.final.0\n",
      "win32\n",
      "nt\n",
      "D:\\WPy64-3820\\python-3.8.2.amd64\\lib\\site-packages\\numpy\\DLLs;D:\\WPy64-3820\\python-3.8.2.amd64\\Lib\\site-packages\\PyQt5;D:\\WPy64-3820\\python-3.8.2.amd64\\Lib\\site-packages\\PySide2;D:\\WPy64-3820\\python-3.8.2.amd64\\;D:\\WPy64-3820\\python-3.8.2.amd64\\DLLs;D:\\WPy64-3820\\python-3.8.2.amd64\\Scripts;D:\\WPy64-3820\\python-3.8.2.amd64\\..\\t;D:\\WPy64-3820\\python-3.8.2.amd64\\..\\t\\mingw32\\bin;D:\\WPy64-3820\\python-3.8.2.amd64\\..\\t\\R\\bin\\x64;D:\\WPy64-3820\\python-3.8.2.amd64\\..\\t\\Julia\\bin;D:\\WPy64-3820\\python-3.8.2.amd64\\..\\n;C:\\Program Files (x86)\\Common Files\\Oracle\\Java\\javapath;C:\\Windows\\system32;C:\\Windows;C:\\Windows\\System32\\Wbem;C:\\Windows\\System32\\WindowsPowerShell\\v1.0\\;C:\\Windows\\System32\\OpenSSH\\;C:\\Program Files\\TortoiseSVN\\bin;C:\\Users\\i156610\\AppData\\Local\\Microsoft\\WindowsApps;D:\\Microsoft VS Code\\bin;D:\\WPy64-3820;D:\\WPy64-3820\\scripts;D:\\Git\\cmd;\n"
     ]
    }
   ],
   "source": [
    "#!/usr/bin/env python3\n",
    "# Copyright 2009-2017 BHG http://bw.org/\n",
    "\n",
    "import sys\n",
    "import os\n",
    "\n",
    "def main():\n",
    "    v = sys.version_info\n",
    "    print('Python version {}.{}.{}.{}.{}'.format(*v))\n",
    "    \n",
    "    x=sys.platform\n",
    "    print(x)\n",
    "    \n",
    "    z=os.name\n",
    "    print(z)\n",
    "    \n",
    "    k=os.getenv('PATH')\n",
    "    print(k)\n",
    "\n",
    "if __name__ == '__main__': main()\n"
   ]
  },
  {
   "cell_type": "code",
   "execution_count": 10,
   "metadata": {},
   "outputs": [
    {
     "name": "stdout",
     "output_type": "stream",
     "text": [
      "D:\\WPy64-3820\\notebooks\\Python-3--from-first-to-last\\Chapter-14\n",
      "b'\\x90~?\\xf8zY\\xe2\\xc2\\x0b\\x98^\\x07X\\x89\\xe0\\xa8\\x87\\xe8\\xb6\\xe6\\xceN\\x8fm\\xa8'\n"
     ]
    }
   ],
   "source": [
    "import os\n",
    "\n",
    "v=os.getcwd()\n",
    "z=os.urandom(25)\n",
    "print(v)\n",
    "print(z)"
   ]
  },
  {
   "cell_type": "code",
   "execution_count": 14,
   "metadata": {},
   "outputs": [
    {
     "name": "stdout",
     "output_type": "stream",
     "text": [
      "231\n"
     ]
    }
   ],
   "source": [
    "import random\n",
    "\n",
    "x=random.randint(1,1000)\n",
    "print(x)"
   ]
  },
  {
   "cell_type": "code",
   "execution_count": 17,
   "metadata": {},
   "outputs": [
    {
     "name": "stdout",
     "output_type": "stream",
     "text": [
      "[0, 1, 2, 3, 4, 5, 6, 7, 8, 9, 10, 11, 12, 13, 14, 15, 16, 17, 18, 19, 20, 21, 22, 23, 24]\n",
      "[12, 9, 10, 19, 6, 15, 0, 17, 1, 22, 7, 13, 5, 2, 8, 4, 14, 23, 24, 16, 3, 11, 18, 20, 21]\n"
     ]
    }
   ],
   "source": [
    "x=list(range(25))\n",
    "print(x)\n",
    "random.shuffle(x)\n",
    "print(x)"
   ]
  },
  {
   "cell_type": "code",
   "execution_count": null,
   "metadata": {},
   "outputs": [],
   "source": []
  }
 ],
 "metadata": {
  "kernelspec": {
   "display_name": "Python 3",
   "language": "python",
   "name": "python3"
  },
  "language_info": {
   "codemirror_mode": {
    "name": "ipython",
    "version": 3
   },
   "file_extension": ".py",
   "mimetype": "text/x-python",
   "name": "python",
   "nbconvert_exporter": "python",
   "pygments_lexer": "ipython3",
   "version": "3.8.2"
  }
 },
 "nbformat": 4,
 "nbformat_minor": 4
}
