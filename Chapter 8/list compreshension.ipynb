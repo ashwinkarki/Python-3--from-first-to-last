{
 "cells": [
  {
   "cell_type": "code",
   "execution_count": 13,
   "metadata": {},
   "outputs": [
    {
     "name": "stdout",
     "output_type": "stream",
     "text": [
      "0 1 2 3 4 5 6 7 8 9 10 \n",
      "[0, 2, 4, 6, 8, 10, 12, 14, 16, 18, 20]\n",
      "[1, 2, 4, 5, 7, 8, 10]\n",
      "[(0, 0), (1, 1), (2, 4), (3, 9), (4, 16), (5, 25), (6, 36), (7, 49), (8, 64), (9, 81), (10, 100)]\n",
      "[3.0, 3.1, 3.14, 3.142, 3.1416, 3.14159, 3.141593, 3.1415927, 3.14159265, 3.141592654, 3.1415926536]\n",
      "{0: 0, 1: 1, 2: 4, 3: 9, 4: 16, 5: 25, 6: 36, 7: 49, 8: 64, 9: 81, 10: 100}\n",
      "{'s', 'n', 'a', 'u', 'm', 'r', 'e'}\n"
     ]
    }
   ],
   "source": [
    "#!/usr/bin/env python3\n",
    "# Copyright 2009-2017 BHG http://bw.org/\n",
    "\n",
    "def main():\n",
    "    seq = range(11)\n",
    "    seq2=[x*2 for x in seq]\n",
    "    seq3=[x for x in seq if x%3 !=0]\n",
    "    print_list(seq)\n",
    "    print(seq2)\n",
    "    print(seq3)\n",
    "    \n",
    "    #chainging list to tuple\n",
    "    seq4=[(x,x**2) for x in seq]\n",
    "    print(seq4)\n",
    "    \n",
    "    from math import pi\n",
    "    seq5=[round(pi,i) for i in seq]\n",
    "    \n",
    "    print(seq5)\n",
    "    \n",
    "    #list to dict\n",
    "    seq6={x:x**2 for x in seq}\n",
    "    print(seq6)\n",
    "    \n",
    "    #list to set\n",
    "    seq7={x for x in 'superman' if x not in 'pd'}\n",
    "    \n",
    "    print(seq7)\n",
    "\n",
    "def print_list(o):\n",
    "    for x in o: print(x, end = ' ')\n",
    "    print()\n",
    "\n",
    "if __name__ == '__main__': main()\n"
   ]
  },
  {
   "cell_type": "code",
   "execution_count": null,
   "metadata": {},
   "outputs": [],
   "source": []
  }
 ],
 "metadata": {
  "kernelspec": {
   "display_name": "Python 3",
   "language": "python",
   "name": "python3"
  },
  "language_info": {
   "codemirror_mode": {
    "name": "ipython",
    "version": 3
   },
   "file_extension": ".py",
   "mimetype": "text/x-python",
   "name": "python",
   "nbconvert_exporter": "python",
   "pygments_lexer": "ipython3",
   "version": "3.8.2"
  }
 },
 "nbformat": 4,
 "nbformat_minor": 4
}
