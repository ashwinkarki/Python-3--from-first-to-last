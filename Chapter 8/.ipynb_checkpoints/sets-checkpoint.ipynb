{
 "cells": [
  {
   "cell_type": "code",
   "execution_count": 10,
   "metadata": {},
   "outputs": [
    {
     "name": "stdout",
     "output_type": "stream",
     "text": [
      "{Wraigtn d'eb.o}\n",
      "{,oihn .'fsyrcIaDtdevm}\n",
      "{'Karki', 'Ashwin'}\n",
      "{gWb}\n",
      "{'r', 'a', 'i', 't', 'n', ' ', 'd', \"'\", 'e', '.', 'o'}\n",
      "{'W', 'c', ',', 'b', 'I', 'D', 'g', 'h', 'f', 'm', 'v', 's', 'y'}\n"
     ]
    }
   ],
   "source": [
    "#!/usr/bin/env python3\n",
    "# Copyright 2009-2017 BHG http://bw.org/\n",
    "\n",
    "def main():\n",
    "    a = set(\"We're gonna need a bigger boat.\")\n",
    "    b = set(\"I'm sorry, Dave. I'm afraid I can't do that.\")\n",
    "    c=set(('Ashwin','Karki'))\n",
    "    print_set(a)\n",
    "    print_set(b)\n",
    "    print(c)\n",
    "    \n",
    "    print_set(a-b)\n",
    "    print(a & b)\n",
    "    print(a^b)\n",
    "    \n",
    "\n",
    "def print_set(o):\n",
    "    print('{', end = '')\n",
    "    for x in o: print(x, end = '')\n",
    "    print('}')\n",
    "\n",
    "if __name__ == '__main__': main()\n"
   ]
  },
  {
   "cell_type": "code",
   "execution_count": null,
   "metadata": {},
   "outputs": [],
   "source": []
  }
 ],
 "metadata": {
  "kernelspec": {
   "display_name": "Python 3",
   "language": "python",
   "name": "python3"
  },
  "language_info": {
   "codemirror_mode": {
    "name": "ipython",
    "version": 3
   },
   "file_extension": ".py",
   "mimetype": "text/x-python",
   "name": "python",
   "nbconvert_exporter": "python",
   "pygments_lexer": "ipython3",
   "version": "3.8.2"
  }
 },
 "nbformat": 4,
 "nbformat_minor": 4
}
