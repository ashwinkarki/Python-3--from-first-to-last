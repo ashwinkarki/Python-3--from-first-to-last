{
 "cells": [
  {
   "cell_type": "code",
   "execution_count": 8,
   "metadata": {},
   "outputs": [
    {
     "name": "stdout",
     "output_type": "stream",
     "text": [
      "Paper\n",
      "['Paper', 'Scissors']\n",
      "Rock \n",
      "Paper \n",
      "Scissors \n",
      "Lizard \n",
      "Spock \n",
      "football \n",
      "Paper,Scissors,Spock\n"
     ]
    }
   ],
   "source": [
    "#!/usr/bin/env python3\n",
    "# Copyright 2009-2017 BHG http://bw.org/\n",
    "\n",
    "def main():\n",
    "    game = [ 'Rock', 'Paper', 'Scissors', 'Lizard', 'Spock' ]\n",
    "    print(game[1])\n",
    "    print(game[1:3])\n",
    "    #removes the last elemente\n",
    "    \n",
    "    game.append('football')\n",
    "    \n",
    "    print_list(game)\n",
    "    \n",
    "    game.pop(3)\n",
    "    game.pop()\n",
    "    del game[0]\n",
    "    \n",
    "    print(','.join(game))\n",
    "\n",
    "def print_list(o):\n",
    "    for i in o: \n",
    "        print(i, end=' ', flush=True)\n",
    "        print()\n",
    "\n",
    "if __name__ == '__main__': main()\n"
   ]
  },
  {
   "cell_type": "code",
   "execution_count": null,
   "metadata": {},
   "outputs": [],
   "source": []
  }
 ],
 "metadata": {
  "kernelspec": {
   "display_name": "Python 3",
   "language": "python",
   "name": "python3"
  },
  "language_info": {
   "codemirror_mode": {
    "name": "ipython",
    "version": 3
   },
   "file_extension": ".py",
   "mimetype": "text/x-python",
   "name": "python",
   "nbconvert_exporter": "python",
   "pygments_lexer": "ipython3",
   "version": "3.8.2"
  }
 },
 "nbformat": 4,
 "nbformat_minor": 4
}
