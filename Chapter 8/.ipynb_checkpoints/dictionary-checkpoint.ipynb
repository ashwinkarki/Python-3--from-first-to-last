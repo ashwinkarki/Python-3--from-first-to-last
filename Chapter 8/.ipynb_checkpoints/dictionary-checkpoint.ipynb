{
 "cells": [
  {
   "cell_type": "code",
   "execution_count": 22,
   "metadata": {},
   "outputs": [
    {
     "name": "stdout",
     "output_type": "stream",
     "text": [
      "meow\n",
      "None\n",
      "kitten\n",
      "puppy\n",
      "lion\n",
      "giraffe\n",
      "dragon\n",
      "kitten: meow\n",
      "puppy: ruff!\n",
      "lion: grrr\n",
      "giraffe: I am a giraffe!\n",
      "dragon: rawr\n",
      "True\n",
      "Nope\n",
      "name\n",
      "caste\n",
      "address\n",
      "name: ashwin\n",
      "caste: karki\n",
      "address: kapan\n",
      "ashwin\n",
      "karki\n",
      "kapan\n",
      "kitten:meow\n",
      "puppy:ruff!\n",
      "lion:grrr\n",
      "giraffe:I am a giraffe!\n",
      "dragon:rawr\n",
      "moneky:haha\n"
     ]
    }
   ],
   "source": [
    "#!/usr/bin/env python3\n",
    "# Copyright 2009-2017 BHG http://bw.org/\n",
    "\n",
    "def main():\n",
    "    animals = { 'kitten': 'meow', 'puppy': 'ruff!', 'lion': 'grrr',\n",
    "        'giraffe': 'I am a giraffe!', 'dragon': 'rawr' }\n",
    "    print(animals['kitten'])\n",
    "   # print(animals['doggy']) not found so error so use\n",
    "    print(animals.get('doggy'))\n",
    "    print_dict(animals)\n",
    "    \n",
    "    animals['moneky']='haha'\n",
    "    \n",
    "    print('kitten' in animals)\n",
    "    print('found' if 'mouse' in animals else 'Nope')\n",
    "   \n",
    "    person=dict(name='ashwin',caste='karki',address='kapan')\n",
    "    print_dict(person)\n",
    "    \n",
    "    for v in person.values():print(v)\n",
    "    \n",
    "    for k,v in animals.items():\n",
    "        print(f'{k}:{v}')\n",
    "def print_dict(o):\n",
    "    for x in o:\n",
    "        print(x)\n",
    "    for x in o:\n",
    "        print(f'{x}: {o[x]}')\n",
    "\n",
    "if __name__ == '__main__': main()\n"
   ]
  },
  {
   "cell_type": "code",
   "execution_count": null,
   "metadata": {},
   "outputs": [],
   "source": []
  }
 ],
 "metadata": {
  "kernelspec": {
   "display_name": "Python 3",
   "language": "python",
   "name": "python3"
  },
  "language_info": {
   "codemirror_mode": {
    "name": "ipython",
    "version": 3
   },
   "file_extension": ".py",
   "mimetype": "text/x-python",
   "name": "python",
   "nbconvert_exporter": "python",
   "pygments_lexer": "ipython3",
   "version": "3.8.2"
  }
 },
 "nbformat": 4,
 "nbformat_minor": 4
}
