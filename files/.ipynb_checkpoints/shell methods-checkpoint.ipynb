{
 "cells": [
  {
   "cell_type": "code",
   "execution_count": 10,
   "metadata": {},
   "outputs": [],
   "source": [
    "#\n",
    "# Example file for working with filesystem shell methods\n",
    "#\n",
    "import os\n",
    "from os import path\n",
    "import shutil\n",
    "\n",
    "from shutil import make_archive\n",
    "from zipfile import ZipFile\n",
    "\n",
    "\n",
    "def main():\n",
    "  # make a duplicate of an existing file\n",
    "  if path.exists(\"textfile.txt\"):\n",
    "    # get the path to the file in the current directory\n",
    "    src=path.realpath(\"textfile.txt\")\n",
    "    \n",
    "    # let's make a backup copy by appending \"bak\" to the name\n",
    "    dst=src+'.bak'\n",
    "    \n",
    "    # copy over the permissions, modification times, and other info\n",
    "    #shutil.copy(src,dst) \n",
    "    #shutil.copystat(src,dst) \n",
    "    \n",
    "    # rename the original file\n",
    "    #os.rename(\"textfile.txt\",\"newfile.txt\")\n",
    "    \n",
    "    # now put things into a ZIP archive\n",
    "    #root_dir,tail=path.split(src)\n",
    "    #shutil.make_archive(\"archive\",\"zip\",root_dir)\n",
    "    \n",
    "    # more fine-grained control over ZIP files\n",
    "    with ZipFile(\"testzip.zip\",\"w\") as newzip:\n",
    "        newzip.write(\"textfile.txt\")\n",
    "        newzip.write(\"textfile.txt.bak\")\n",
    "\n",
    "      \n",
    "if __name__ == \"__main__\":\n",
    "  main()\n"
   ]
  },
  {
   "cell_type": "code",
   "execution_count": null,
   "metadata": {},
   "outputs": [],
   "source": []
  }
 ],
 "metadata": {
  "kernelspec": {
   "display_name": "Python 3",
   "language": "python",
   "name": "python3"
  },
  "language_info": {
   "codemirror_mode": {
    "name": "ipython",
    "version": 3
   },
   "file_extension": ".py",
   "mimetype": "text/x-python",
   "name": "python",
   "nbconvert_exporter": "python",
   "pygments_lexer": "ipython3",
   "version": "3.8.2"
  }
 },
 "nbformat": 4,
 "nbformat_minor": 4
}
