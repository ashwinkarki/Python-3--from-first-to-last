{
 "cells": [
  {
   "cell_type": "code",
   "execution_count": 15,
   "metadata": {},
   "outputs": [
    {
     "name": "stdout",
     "output_type": "stream",
     "text": [
      "nt\n",
      "item exists:True\n",
      "item is a file:True\n",
      "item is a directory:False\n",
      "item path:True\n",
      "item is a file:True\n",
      "item path:D:\\WPy64-3820\\notebooks\\Python-3--from-first-to-last\\files\\textfile.txt\n",
      "item path('D:\\\\WPy64-3820\\\\notebooks\\\\Python-3--from-first-to-last\\\\files', 'textfile.txt')\n",
      "Thu Sep  3 21:45:19 2020\n",
      "2020-09-03 21:45:19.437708\n",
      "it has been 16:42:43.492811since the file has been modified\n",
      "Or it has been 60163.492811since the file has been modified\n"
     ]
    }
   ],
   "source": [
    "#\n",
    "# Example file for working with os.path module\n",
    "#\n",
    "import os\n",
    "from os import path\n",
    "import datetime\n",
    "from datetime import date, time, timedelta\n",
    "import time\n",
    "\n",
    "\n",
    "def main():\n",
    "  # Print the name of the OS\n",
    "  print(os.name)\n",
    "\n",
    "  # Check for item existence and type\n",
    "  print(\"item exists:\"+str(path.exists(\"textfile.txt\")))\n",
    "  print(\"item is a file:\"+str(path.isfile(\"textfile.txt\")))\n",
    "  print(\"item is a directory:\"+str(path.isdir(\"textfile.txt\")))\n",
    "  \n",
    "  # Work with file paths\n",
    "  print(\"item path:\"+str(path.exists(\"textfile.txt\")))\n",
    "  print(\"item is a file:\"+str(path.isfile(\"textfile.txt\")))\n",
    "  print(\"item path:\"+str(path.realpath(\"textfile.txt\")))\n",
    "  print(\"item path\"+str(path.split(path.realpath(\"textfile.txt\"))))\n",
    "    \n",
    "  # Get the modification time\n",
    "  t=time.ctime(path.getmtime(\"textfile.txt\"))\n",
    "  print(t)\n",
    "  print(datetime.datetime.fromtimestamp(path.getmtime(\"textfile.txt\")))\n",
    " \n",
    "  # Calculate how long ago the item was modified\n",
    "  td=datetime.datetime.now()-datetime.datetime.fromtimestamp(path.getmtime(\"textfile.txt\")) \n",
    "  print(\"it has been \"+str(td)+\"since the file has been modified\")\n",
    "  print(\"Or it has been \"+str(td.total_seconds())+\" since the file has been modified\")\n",
    "  \n",
    "if __name__ == \"__main__\":  main()\n"
   ]
  },
  {
   "cell_type": "code",
   "execution_count": null,
   "metadata": {},
   "outputs": [],
   "source": []
  }
 ],
 "metadata": {
  "kernelspec": {
   "display_name": "Python 3",
   "language": "python",
   "name": "python3"
  },
  "language_info": {
   "codemirror_mode": {
    "name": "ipython",
    "version": 3
   },
   "file_extension": ".py",
   "mimetype": "text/x-python",
   "name": "python",
   "nbconvert_exporter": "python",
   "pygments_lexer": "ipython3",
   "version": "3.8.2"
  }
 },
 "nbformat": 4,
 "nbformat_minor": 4
}
