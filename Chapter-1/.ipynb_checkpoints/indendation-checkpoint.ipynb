{
 "cells": [
  {
   "cell_type": "code",
   "execution_count": 7,
   "metadata": {},
   "outputs": [
    {
     "name": "stdout",
     "output_type": "stream",
     "text": [
      "line 3\n",
      "This is python version 3.8.2\n",
      "not in line1\n",
      "Line 2\n"
     ]
    }
   ],
   "source": [
    "#!/usr/bin/env python3\n",
    "# Copyright 2009-2017 BHG http://bw.org/\n",
    "\n",
    "import platform\n",
    "\n",
    "def main():\n",
    "    message()\n",
    "\n",
    "def message():\n",
    "    print('This is python version {}'.format(platform.python_version()))\n",
    "    if False:\n",
    "        print('LINE 1')\n",
    "    else:\n",
    "        print('not in line1')       \n",
    "    print('Line 2')\n",
    "\n",
    "#this print will go first as it is outside the function    \n",
    "print('line 3')\n",
    "\n",
    "if __name__ == '__main__': main()\n"
   ]
  },
  {
   "cell_type": "code",
   "execution_count": null,
   "metadata": {},
   "outputs": [],
   "source": []
  }
 ],
 "metadata": {
  "kernelspec": {
   "display_name": "Python 3",
   "language": "python",
   "name": "python3"
  },
  "language_info": {
   "codemirror_mode": {
    "name": "ipython",
    "version": 3
   },
   "file_extension": ".py",
   "mimetype": "text/x-python",
   "name": "python",
   "nbconvert_exporter": "python",
   "pygments_lexer": "ipython3",
   "version": "3.8.2"
  }
 },
 "nbformat": 4,
 "nbformat_minor": 4
}
