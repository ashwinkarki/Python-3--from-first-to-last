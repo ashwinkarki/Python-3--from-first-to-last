{
 "cells": [
  {
   "cell_type": "code",
   "execution_count": 2,
   "metadata": {},
   "outputs": [
    {
     "name": "stdout",
     "output_type": "stream",
     "text": [
      "x < y: x is 12 and y is 42\n"
     ]
    }
   ],
   "source": [
    "#!/usr/bin/env python3\n",
    "# Copyright 2009-2017 BHG http://bw.org/\n",
    "\n",
    "x = 42\n",
    "y = 42\n",
    "\n",
    "if x < y:\n",
    "    print('x < y: x is {} and y is {}'.format(x, y))\n",
    "elif x>y:\n",
    "    print('x>y: x is {} and y is {}'.format(x,y))\n",
    "elif x==y:\n",
    "    print('x>y: x is {} and y is {}'.format(x,y))\n",
    "else:\n",
    "    print('do someting')\n",
    "\n"
   ]
  },
  {
   "cell_type": "code",
   "execution_count": null,
   "metadata": {},
   "outputs": [],
   "source": []
  }
 ],
 "metadata": {
  "kernelspec": {
   "display_name": "Python 3",
   "language": "python",
   "name": "python3"
  },
  "language_info": {
   "codemirror_mode": {
    "name": "ipython",
    "version": 3
   },
   "file_extension": ".py",
   "mimetype": "text/x-python",
   "name": "python",
   "nbconvert_exporter": "python",
   "pygments_lexer": "ipython3",
   "version": "3.8.2"
  }
 },
 "nbformat": 4,
 "nbformat_minor": 4
}
