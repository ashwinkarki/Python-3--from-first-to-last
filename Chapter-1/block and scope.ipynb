{
 "cells": [
  {
   "cell_type": "code",
   "execution_count": 6,
   "metadata": {},
   "outputs": [
    {
     "name": "stdout",
     "output_type": "stream",
     "text": [
      "x < y: x is 42 and y is 73\n",
      "line 2\n",
      "line 3\n",
      "line 4\n",
      "z is 100\n",
      "something else\n"
     ]
    }
   ],
   "source": [
    "#!/usr/bin/env python3\n",
    "# Copyright 2009-2017 BHG http://bw.org/\n",
    "\n",
    "x = 42\n",
    "y = 73\n",
    "\n",
    "#block starts\n",
    "if x < y:\n",
    "    z=100\n",
    "    print('x < y: x is {} and y is {}'.format(x, y))\n",
    "    print('line 2')\n",
    "    print('line 3')\n",
    "#block ends    \n",
    "#it is not part of if condition so it is executed first\n",
    "print('line 4')\n",
    "\n",
    "#scope is global for block but its local for class,function,modules\n",
    "print('z is {}'.format(z))\n",
    "#its intendation is out of scope\n",
    "print('something else')\n"
   ]
  },
  {
   "cell_type": "code",
   "execution_count": null,
   "metadata": {},
   "outputs": [],
   "source": []
  }
 ],
 "metadata": {
  "kernelspec": {
   "display_name": "Python 3",
   "language": "python",
   "name": "python3"
  },
  "language_info": {
   "codemirror_mode": {
    "name": "ipython",
    "version": 3
   },
   "file_extension": ".py",
   "mimetype": "text/x-python",
   "name": "python",
   "nbconvert_exporter": "python",
   "pygments_lexer": "ipython3",
   "version": "3.8.2"
  }
 },
 "nbformat": 4,
 "nbformat_minor": 4
}
