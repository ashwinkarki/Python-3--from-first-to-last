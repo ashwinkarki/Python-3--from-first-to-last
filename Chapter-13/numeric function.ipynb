{
 "cells": [
  {
   "cell_type": "code",
   "execution_count": 2,
   "metadata": {},
   "outputs": [
    {
     "name": "stdout",
     "output_type": "stream",
     "text": [
      "x is <class 'str'>\n",
      "x is 47\n",
      "y is <class 'int'>\n",
      "y is 47\n"
     ]
    }
   ],
   "source": [
    "#!/usr/bin/env python3\n",
    "# Copyright 2009-2017 BHG http://bw.org/\n",
    "\n",
    "x = '47'\n",
    "y = int(x)\n",
    "\n",
    "print(f'x is {type(x)}')\n",
    "print(f'x is {x}')\n",
    "print(f'y is {type(y)}')\n",
    "print(f'y is {y}')\n"
   ]
  },
  {
   "cell_type": "code",
   "execution_count": 3,
   "metadata": {},
   "outputs": [
    {
     "name": "stdout",
     "output_type": "stream",
     "text": [
      "x is <class 'str'>\n",
      "x is 47\n",
      "y is <class 'float'>\n",
      "y is 47.0\n"
     ]
    }
   ],
   "source": [
    "\n",
    "x = '47'\n",
    "y = float(x)\n",
    "\n",
    "print(f'x is {type(x)}')\n",
    "print(f'x is {x}')\n",
    "print(f'y is {type(y)}')\n",
    "print(f'y is {y}')\n"
   ]
  },
  {
   "cell_type": "code",
   "execution_count": 5,
   "metadata": {},
   "outputs": [
    {
     "name": "stdout",
     "output_type": "stream",
     "text": [
      "x is <class 'int'>\n",
      "x is -47\n",
      "y is <class 'int'>\n",
      "y is 47\n"
     ]
    }
   ],
   "source": [
    "x = -47\n",
    "y = abs(x)\n",
    "\n",
    "print(f'x is {type(x)}')\n",
    "print(f'x is {x}')\n",
    "print(f'y is {type(y)}')\n",
    "print(f'y is {y}')\n"
   ]
  },
  {
   "cell_type": "code",
   "execution_count": 6,
   "metadata": {},
   "outputs": [
    {
     "name": "stdout",
     "output_type": "stream",
     "text": [
      "x is <class 'int'>\n",
      "x is 47\n",
      "y is <class 'tuple'>\n",
      "y is (15, 2)\n"
     ]
    }
   ],
   "source": [
    "x = 47\n",
    "y = divmod(x,3)\n",
    "\n",
    "print(f'x is {type(x)}')\n",
    "print(f'x is {x}')\n",
    "print(f'y is {type(y)}')\n",
    "print(f'y is {y}')"
   ]
  },
  {
   "cell_type": "code",
   "execution_count": 7,
   "metadata": {},
   "outputs": [
    {
     "name": "stdout",
     "output_type": "stream",
     "text": [
      "x is <class 'int'>\n",
      "x is 47\n",
      "y is <class 'complex'>\n",
      "y is (47+73j)\n"
     ]
    }
   ],
   "source": [
    "x = 47\n",
    "y = x+73j\n",
    "\n",
    "print(f'x is {type(x)}')\n",
    "print(f'x is {x}')\n",
    "print(f'y is {type(y)}')\n",
    "print(f'y is {y}')"
   ]
  },
  {
   "cell_type": "code",
   "execution_count": null,
   "metadata": {},
   "outputs": [],
   "source": []
  }
 ],
 "metadata": {
  "kernelspec": {
   "display_name": "Python 3",
   "language": "python",
   "name": "python3"
  },
  "language_info": {
   "codemirror_mode": {
    "name": "ipython",
    "version": 3
   },
   "file_extension": ".py",
   "mimetype": "text/x-python",
   "name": "python",
   "nbconvert_exporter": "python",
   "pygments_lexer": "ipython3",
   "version": "3.8.2"
  }
 },
 "nbformat": 4,
 "nbformat_minor": 4
}
