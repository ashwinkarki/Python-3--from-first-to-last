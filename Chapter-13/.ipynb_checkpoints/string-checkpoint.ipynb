{
 "cells": [
  {
   "cell_type": "code",
   "execution_count": 1,
   "metadata": {},
   "outputs": [
    {
     "name": "stdout",
     "output_type": "stream",
     "text": [
      "'Hello world'\n"
     ]
    }
   ],
   "source": [
    "s='Hello world'\n",
    "print(repr(s))"
   ]
  },
  {
   "cell_type": "code",
   "execution_count": 9,
   "metadata": {},
   "outputs": [
    {
     "name": "stdout",
     "output_type": "stream",
     "text": [
      "str:value of n is 47\n"
     ]
    }
   ],
   "source": [
    "class bunny:\n",
    "    def __init__(self,n):\n",
    "        self._n=n\n",
    "    def __repr__(self):\n",
    "        return f'repr:value of n is {self._n}'\n",
    "    def __str__(self):\n",
    "        return f'str:value of n is {self._n}'\n",
    "s=bunny(47)\n",
    "print(s)"
   ]
  },
  {
   "cell_type": "code",
   "execution_count": 10,
   "metadata": {},
   "outputs": [
    {
     "name": "stdout",
     "output_type": "stream",
     "text": [
      "repr:value of n is 47\n"
     ]
    }
   ],
   "source": [
    "class bunny:\n",
    "    def __init__(self,n):\n",
    "        self._n=n\n",
    "    def __repr__(self):\n",
    "        return f'repr:value of n is {self._n}'\n",
    "    def __str__(self):\n",
    "        return f'str:value of n is {self._n}'\n",
    "s=bunny(47)\n",
    "print(ascii(s))"
   ]
  },
  {
   "cell_type": "code",
   "execution_count": null,
   "metadata": {},
   "outputs": [],
   "source": []
  }
 ],
 "metadata": {
  "kernelspec": {
   "display_name": "Python 3",
   "language": "python",
   "name": "python3"
  },
  "language_info": {
   "codemirror_mode": {
    "name": "ipython",
    "version": 3
   },
   "file_extension": ".py",
   "mimetype": "text/x-python",
   "name": "python",
   "nbconvert_exporter": "python",
   "pygments_lexer": "ipython3",
   "version": "3.8.2"
  }
 },
 "nbformat": 4,
 "nbformat_minor": 4
}
