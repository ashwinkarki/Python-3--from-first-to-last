{
 "cells": [
  {
   "cell_type": "code",
   "execution_count": 1,
   "metadata": {},
   "outputs": [
    {
     "name": "stdout",
     "output_type": "stream",
     "text": [
      "result is 8\n"
     ]
    }
   ],
   "source": [
    "#arithmetic operator +,-,/,%\n",
    "x = 5\n",
    "y = 3\n",
    "z = x + y\n",
    "\n",
    "print(f'result is {z}')"
   ]
  },
  {
   "cell_type": "code",
   "execution_count": 2,
   "metadata": {},
   "outputs": [
    {
     "name": "stdout",
     "output_type": "stream",
     "text": [
      "result is -2\n"
     ]
    }
   ],
   "source": [
    "x = 5\n",
    "y = 3\n",
    "z = x % y\n",
    "\n",
    "z= -z\n",
    "z= +z\n",
    "print(f'result is {z}')"
   ]
  },
  {
   "cell_type": "code",
   "execution_count": 3,
   "metadata": {},
   "outputs": [
    {
     "name": "stdout",
     "output_type": "stream",
     "text": [
      "(hex) x is 0a, y is 02, z is 02\n",
      "(bin) x is 00001010, y is 00000010, z is 00000010\n"
     ]
    }
   ],
   "source": [
    "#bitwise\n",
    "\n",
    "#!/usr/bin/env python3\n",
    "# Copyright 2009-2017 BHG http://bw.org/\n",
    "\n",
    "x = 0x0a\n",
    "y = 0x02\n",
    "z = x & y\n",
    "\n",
    "print(f'(hex) x is {x:02x}, y is {y:02x}, z is {z:02x}')\n",
    "print(f'(bin) x is {x:08b}, y is {y:08b}, z is {z:08b}')\n"
   ]
  },
  {
   "cell_type": "code",
   "execution_count": 5,
   "metadata": {},
   "outputs": [
    {
     "name": "stdout",
     "output_type": "stream",
     "text": [
      "comparison is true\n"
     ]
    }
   ],
   "source": [
    "#compariosn operator\n",
    "#!/usr/bin/env python3\n",
    "# Copyright 2009-2017 BHG http://bw.org/\n",
    "\n",
    "x = 42\n",
    "y = 73\n",
    "\n",
    "if x < y:\n",
    "    print('comparison is true')\n",
    "else:\n",
    "    print('comparison is false')\n",
    "\n",
    "\n"
   ]
  },
  {
   "cell_type": "code",
   "execution_count": 13,
   "metadata": {},
   "outputs": [
    {
     "name": "stdout",
     "output_type": "stream",
     "text": [
      "expression is false\n",
      "expression is true\n",
      "expression is true\n",
      "expression is true\n",
      "expression is false\n",
      "expression is true\n",
      "expression is true\n",
      "expression is false\n"
     ]
    }
   ],
   "source": [
    "#boolean operators\n",
    "\n",
    "#!/usr/bin/env python3\n",
    "# Copyright 2009-2017 BHG http://bw.org/\n",
    "\n",
    "a = True\n",
    "b = False\n",
    "x = ( 'bear', 'bunny', 'tree', 'sky', 'rain' )\n",
    "y = 'bear'\n",
    "\n",
    "if a and b:\n",
    "    print('expression is true')\n",
    "else:\n",
    "    print('expression is false')\n",
    "    \n",
    "if a or b:\n",
    "    print('expression is true')\n",
    "else:\n",
    "    print('expression is false')\n",
    "    \n",
    "if not b:\n",
    "    print('expression is true')\n",
    "else:\n",
    "    print('expression is false')\n",
    "    \n",
    "if y in x:\n",
    "    print('expression is true')\n",
    "else:\n",
    "    print('expression is false')\n",
    "    \n",
    "if 'leaf' in x:\n",
    "    print('expression is true')\n",
    "else:\n",
    "    print('expression is false')    \n",
    "\n",
    "if 'tree' in x:\n",
    "    print('expression is true')\n",
    "else:\n",
    "    print('expression is false')   \n",
    "    \n",
    "if y is x[0]:\n",
    "     print('expression is true')\n",
    "else:\n",
    "    print('expression is false')     \n",
    "\n",
    "if y is not x[0]:\n",
    "     print('expression is true')\n",
    "else:\n",
    "    print('expression is false')        "
   ]
  },
  {
   "cell_type": "code",
   "execution_count": null,
   "metadata": {},
   "outputs": [],
   "source": []
  }
 ],
 "metadata": {
  "kernelspec": {
   "display_name": "Python 3",
   "language": "python",
   "name": "python3"
  },
  "language_info": {
   "codemirror_mode": {
    "name": "ipython",
    "version": 3
   },
   "file_extension": ".py",
   "mimetype": "text/x-python",
   "name": "python",
   "nbconvert_exporter": "python",
   "pygments_lexer": "ipython3",
   "version": "3.8.2"
  }
 },
 "nbformat": 4,
 "nbformat_minor": 4
}
