{
 "cells": [
  {
   "cell_type": "code",
   "execution_count": 1,
   "metadata": {},
   "outputs": [
    {
     "name": "stdout",
     "output_type": "stream",
     "text": [
      "HELLO WORLD\n"
     ]
    }
   ],
   "source": [
    "print('Hello world'.upper())"
   ]
  },
  {
   "cell_type": "code",
   "execution_count": 2,
   "metadata": {},
   "outputs": [
    {
     "name": "stdout",
     "output_type": "stream",
     "text": [
      "Hello world 168\n"
     ]
    }
   ],
   "source": [
    "print('Hello world {}'.format(24*7))"
   ]
  },
  {
   "cell_type": "code",
   "execution_count": 7,
   "metadata": {},
   "outputs": [
    {
     "name": "stdout",
     "output_type": "stream",
     "text": [
      "dlrow, olleh\n"
     ]
    }
   ],
   "source": [
    "class MyString(str):\n",
    "    def __str__(self):\n",
    "        return self[::-1]\n",
    "s=MyString('hello ,world')\n",
    "print(s)"
   ]
  },
  {
   "cell_type": "code",
   "execution_count": 8,
   "metadata": {},
   "outputs": [
    {
     "name": "stdout",
     "output_type": "stream",
     "text": [
      "the no is 42 and 73\n"
     ]
    }
   ],
   "source": [
    "x=42\n",
    "y=73\n",
    "print('the no is {xx} and {yy}'.format(xx=x,yy=y))"
   ]
  },
  {
   "cell_type": "code",
   "execution_count": 9,
   "metadata": {},
   "outputs": [
    {
     "name": "stdout",
     "output_type": "stream",
     "text": [
      "the no is 73 and 42\n"
     ]
    }
   ],
   "source": [
    "x=42\n",
    "y=73\n",
    "print('the no is {yy} and {xx}'.format(xx=x,yy=y))"
   ]
  },
  {
   "cell_type": "code",
   "execution_count": 12,
   "metadata": {},
   "outputs": [
    {
     "name": "stdout",
     "output_type": "stream",
     "text": [
      "the no is 73 and 42\n"
     ]
    }
   ],
   "source": [
    "x=42\n",
    "y=73\n",
    "#positional arguement\n",
    "print('the no is {1} and {0}'.format(x,y))"
   ]
  },
  {
   "cell_type": "code",
   "execution_count": 14,
   "metadata": {},
   "outputs": [
    {
     "name": "stdout",
     "output_type": "stream",
     "text": [
      "the no is 73    and 00042\n"
     ]
    }
   ],
   "source": [
    "x=42\n",
    "y=73\n",
    "#positional arguement\n",
    "print('the no is {1:<5} and {0:>05}'.format(x,y))"
   ]
  },
  {
   "cell_type": "code",
   "execution_count": 15,
   "metadata": {},
   "outputs": [
    {
     "name": "stdout",
     "output_type": "stream",
     "text": [
      "the no is 73    and   +42\n"
     ]
    }
   ],
   "source": [
    "x=42\n",
    "y=73\n",
    "#positional arguement\n",
    "print('the no is {1:<5} and {0:+5}'.format(x,y))"
   ]
  },
  {
   "cell_type": "code",
   "execution_count": 17,
   "metadata": {},
   "outputs": [
    {
     "name": "stdout",
     "output_type": "stream",
     "text": [
      "the no is 42,000\n"
     ]
    }
   ],
   "source": [
    "x=42*1000\n",
    "print('the no is {:,}'.format(x))"
   ]
  },
  {
   "cell_type": "code",
   "execution_count": 2,
   "metadata": {},
   "outputs": [
    {
     "name": "stdout",
     "output_type": "stream",
     "text": [
      "['This', 'is', 'a', 'long', 'string', 'with', 'a', 'bunch', 'of', 'words', 'in', 'it.']\n"
     ]
    }
   ],
   "source": [
    "s = 'This is a long string with a bunch of words in it.'\n",
    "print(s.split())"
   ]
  },
  {
   "cell_type": "code",
   "execution_count": 3,
   "metadata": {},
   "outputs": [
    {
     "name": "stdout",
     "output_type": "stream",
     "text": [
      "['This', 'is', 'a', 'long', 'string', 'with', 'a', 'bunch', 'of', 'words', 'in', 'it.']\n"
     ]
    }
   ],
   "source": [
    "s = '''\n",
    "This is a long string with a bunch of words in it.\n",
    "'''\n",
    "print(s.split())"
   ]
  },
  {
   "cell_type": "code",
   "execution_count": 4,
   "metadata": {},
   "outputs": [
    {
     "name": "stdout",
     "output_type": "stream",
     "text": [
      "['Th', 's ', 's a long str', 'ng w', 'th a bunch of words ', 'n ', 't.']\n"
     ]
    }
   ],
   "source": [
    "s = 'This is a long string with a bunch of words in it.'\n",
    "print(s.split('i'))"
   ]
  },
  {
   "cell_type": "code",
   "execution_count": 7,
   "metadata": {},
   "outputs": [
    {
     "name": "stdout",
     "output_type": "stream",
     "text": [
      "This:is:a:long:string:with:a:bunch:of:words:in:it.\n"
     ]
    }
   ],
   "source": [
    "s = 'This is a long string with a bunch of words in it.'\n",
    "l=s.split()\n",
    "s2=':'.join(l)\n",
    "print(s2)"
   ]
  },
  {
   "cell_type": "code",
   "execution_count": 8,
   "metadata": {},
   "outputs": [
    {
     "name": "stdout",
     "output_type": "stream",
     "text": [
      "This--is--a--long--string--with--a--bunch--of--words--in--it.\n"
     ]
    }
   ],
   "source": [
    "s = 'This is a long string with a bunch of words in it.'\n",
    "l=s.split()\n",
    "s2='--'.join(l)\n",
    "print(s2)"
   ]
  },
  {
   "cell_type": "code",
   "execution_count": null,
   "metadata": {},
   "outputs": [],
   "source": []
  }
 ],
 "metadata": {
  "kernelspec": {
   "display_name": "Python 3",
   "language": "python",
   "name": "python3"
  },
  "language_info": {
   "codemirror_mode": {
    "name": "ipython",
    "version": 3
   },
   "file_extension": ".py",
   "mimetype": "text/x-python",
   "name": "python",
   "nbconvert_exporter": "python",
   "pygments_lexer": "ipython3",
   "version": "3.8.2"
  }
 },
 "nbformat": 4,
 "nbformat_minor": 4
}
