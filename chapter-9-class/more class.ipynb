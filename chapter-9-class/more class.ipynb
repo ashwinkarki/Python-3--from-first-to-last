{
 "cells": [
  {
   "cell_type": "code",
   "execution_count": 14,
   "metadata": {},
   "outputs": [
    {
     "name": "stdout",
     "output_type": "stream",
     "text": [
      "Parnet my class method1\n",
      "my class method2this is som string\n",
      "Parnet my class method1\n",
      "Another class my class method1\n",
      "my class method2\n"
     ]
    }
   ],
   "source": [
    "class MyClass():\n",
    "    def method1(self):\n",
    "        print('Parnet my class method1')\n",
    "        \n",
    "    def method2(self,someString):\n",
    "        print(\"my class method2\"+someString)\n",
    "\n",
    "def main():\n",
    "    c=MyClass()\n",
    "    c.method1()\n",
    "    c.method2(\"this is som string\")\n",
    "    \n",
    "    c2=AnotherClass()\n",
    "    c2.method1()\n",
    "    c2.method2('abc')\n",
    "    \n",
    "class AnotherClass(MyClass):\n",
    "      def method1(self):\n",
    "            super().method1()\n",
    "            print('Another class my class method1')\n",
    "      \n",
    "      #it overrides here\n",
    "      def method2(self,someString):\n",
    "            print(\"my class method2\")\n",
    "    \n",
    "if __name__==\"__main__\":main()    \n",
    "        "
   ]
  },
  {
   "cell_type": "code",
   "execution_count": null,
   "metadata": {},
   "outputs": [],
   "source": []
  }
 ],
 "metadata": {
  "kernelspec": {
   "display_name": "Python 3",
   "language": "python",
   "name": "python3"
  },
  "language_info": {
   "codemirror_mode": {
    "name": "ipython",
    "version": 3
   },
   "file_extension": ".py",
   "mimetype": "text/x-python",
   "name": "python",
   "nbconvert_exporter": "python",
   "pygments_lexer": "ipython3",
   "version": "3.8.2"
  }
 },
 "nbformat": 4,
 "nbformat_minor": 4
}
