{
 "cells": [
  {
   "cell_type": "code",
   "execution_count": 3,
   "metadata": {},
   "outputs": [
    {
     "name": "stdout",
     "output_type": "stream",
     "text": [
      "The kitten is named \"fluffy\" and says \"rwar\".\n",
      "The duck is named \"donald\" and says \"quack\".\n",
      "The velociraptor is named \"veronica\" and says \"hello\".\n"
     ]
    }
   ],
   "source": [
    "#!/usr/bin/env python3\n",
    "# Copyright 2009-2017 BHG http://bw.org/\n",
    "\n",
    "class Animal:\n",
    "    def __init__(self, type, name, sound):\n",
    "        self._type = type\n",
    "        self._name = name\n",
    "        self._sound = sound\n",
    "\n",
    "    def type(self):\n",
    "        return self._type\n",
    "\n",
    "    def name(self):\n",
    "        return self._name\n",
    "\n",
    "    def sound(self):\n",
    "        return self._sound\n",
    "\n",
    "def print_animal(o):\n",
    "    if not isinstance(o, Animal):\n",
    "        raise TypeError('print_animal(): requires an Animal')\n",
    "    print('The {} is named \"{}\" and says \"{}\".'.format(o.type(), o.name(), o.sound()))\n",
    "\n",
    "\n",
    "def main():\n",
    "    a0 = Animal('kitten', 'fluffy', 'rwar')\n",
    "    a1 = Animal('duck', 'donald', 'quack')\n",
    "    print_animal(a0)\n",
    "    print_animal(a1)\n",
    "    print_animal(Animal('velociraptor', 'veronica', 'hello'))\n",
    "\n",
    "if __name__ == '__main__': main()\n"
   ]
  },
  {
   "cell_type": "code",
   "execution_count": 5,
   "metadata": {},
   "outputs": [
    {
     "name": "stdout",
     "output_type": "stream",
     "text": [
      "The kitten is named \"fluffy\" and says \"rwar\".\n",
      "The duck is named \"donald\" and says \"quack\".\n",
      "The velociraptor is named \"veronica\" and says \"hello\".\n"
     ]
    }
   ],
   "source": [
    "#!/usr/bin/env python3\n",
    "# Copyright 2009-2017 BHG http://bw.org/\n",
    "\n",
    "class Animal:\n",
    "    def __init__(self, **kwargs):\n",
    "        self._type = kwargs['type']\n",
    "        self._name = kwargs['name']\n",
    "        self._sound = kwargs['sound']\n",
    "\n",
    "    def type(self):\n",
    "        return self._type\n",
    "\n",
    "    def name(self):\n",
    "        return self._name\n",
    "\n",
    "    def sound(self):\n",
    "        return self._sound\n",
    "\n",
    "def print_animal(o):\n",
    "    if not isinstance(o, Animal):\n",
    "        raise TypeError('print_animal(): requires an Animal')\n",
    "    print('The {} is named \"{}\" and says \"{}\".'.format(o.type(), o.name(), o.sound()))\n",
    "\n",
    "\n",
    "def main():\n",
    "    a0 = Animal(type='kitten',name='fluffy',sound='rwar')\n",
    "    a1 = Animal(type='duck',name='donald',sound='quack')\n",
    "    print_animal(a0)\n",
    "    print_animal(a1)\n",
    "    print_animal(Animal(type='velociraptor',name= 'veronica',sound= 'hello'))\n",
    "\n",
    "if __name__ == '__main__': main()\n"
   ]
  },
  {
   "cell_type": "code",
   "execution_count": 7,
   "metadata": {},
   "outputs": [
    {
     "name": "stdout",
     "output_type": "stream",
     "text": [
      "The kitten is named \"fluffy\" and says \"meowmeow\".\n"
     ]
    }
   ],
   "source": [
    "#!/usr/bin/env python3\n",
    "# Copyright 2009-2017 BHG http://bw.org/\n",
    "\n",
    "class Animal:\n",
    "    def __init__(self, **kwargs):\n",
    "        self._type = kwargs['type'] if 'type' in kwargs else 'kitten'\n",
    "        self._name = kwargs['name'] if 'name' in kwargs else 'fluffy'\n",
    "        self._sound = kwargs['sound'] if 'sound' in kwargs else 'meowmeow'\n",
    "\n",
    "    def type(self):\n",
    "        return self._type\n",
    "\n",
    "    def name(self):\n",
    "        return self._name\n",
    "\n",
    "    def sound(self):\n",
    "        return self._sound\n",
    "\n",
    "def print_animal(o):\n",
    "    if not isinstance(o, Animal):\n",
    "        raise TypeError('print_animal(): requires an Animal')\n",
    "    print('The {} is named \"{}\" and says \"{}\".'.format(o.type(), o.name(), o.sound()))\n",
    "\n",
    "\n",
    "def main():\n",
    "    print_animal(Animal())\n",
    "\n",
    "if __name__ == '__main__': main()\n"
   ]
  },
  {
   "cell_type": "code",
   "execution_count": null,
   "metadata": {},
   "outputs": [],
   "source": []
  }
 ],
 "metadata": {
  "kernelspec": {
   "display_name": "Python 3",
   "language": "python",
   "name": "python3"
  },
  "language_info": {
   "codemirror_mode": {
    "name": "ipython",
    "version": 3
   },
   "file_extension": ".py",
   "mimetype": "text/x-python",
   "name": "python",
   "nbconvert_exporter": "python",
   "pygments_lexer": "ipython3",
   "version": "3.8.2"
  }
 },
 "nbformat": 4,
 "nbformat_minor": 4
}
