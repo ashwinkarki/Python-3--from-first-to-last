{
 "cells": [
  {
   "cell_type": "code",
   "execution_count": 4,
   "metadata": {},
   "outputs": [
    {
     "name": "stdout",
     "output_type": "stream",
     "text": [
      "The kitten is named \"Ashwin\" and says \"rwar\".\n",
      "The duck is named \"donald\" and says \"quack\".\n",
      "[1, 2, 3]\n",
      "[100, 2, 3]\n"
     ]
    }
   ],
   "source": [
    "#!/usr/bin/env python3\n",
    "# Copyright 2009-2017 BHG http://bw.org/\n",
    "\n",
    "class Animal:\n",
    "    #class variable\n",
    "    x=[1,2,3]\n",
    "    def __init__(self, **kwargs):\n",
    "        #object variale\n",
    "        self._type = kwargs['type'] if 'type' in kwargs else 'kitten'\n",
    "        self._name = kwargs['name'] if 'name' in kwargs else 'fluffy'\n",
    "        self._sound = kwargs['sound'] if 'sound' in kwargs else 'meow'\n",
    "\n",
    "    def type(self, t = None):\n",
    "        if t: self._type = t\n",
    "        return self._type\n",
    "\n",
    "    def name(self, n = None):\n",
    "        if n: self._name = n\n",
    "        return self._name\n",
    "\n",
    "    def sound(self, s = None):\n",
    "        if s: self._sound = s\n",
    "        return self._sound\n",
    "\n",
    "    def __str__(self):\n",
    "        return f'The {self.type()} is named \"{self.name()}\" and says \"{self.sound()}\".'\n",
    "\n",
    "def main():\n",
    "    a0 = Animal(type = 'kitten', name = 'fluffy', sound = 'rwar')\n",
    "    a1 = Animal(type = 'duck', name = 'donald', sound = 'quack')\n",
    "   #not a good way a0._name='Ashwin'\n",
    "    print(a0)\n",
    "    print(a1)\n",
    "    \n",
    "    print(a0.x)\n",
    "    a1.x[0]=100\n",
    "    print(a0.x)\n",
    "\n",
    "if __name__ == '__main__': main()\n"
   ]
  },
  {
   "cell_type": "code",
   "execution_count": null,
   "metadata": {},
   "outputs": [],
   "source": []
  }
 ],
 "metadata": {
  "kernelspec": {
   "display_name": "Python 3",
   "language": "python",
   "name": "python3"
  },
  "language_info": {
   "codemirror_mode": {
    "name": "ipython",
    "version": 3
   },
   "file_extension": ".py",
   "mimetype": "text/x-python",
   "name": "python",
   "nbconvert_exporter": "python",
   "pygments_lexer": "ipython3",
   "version": "3.8.2"
  }
 },
 "nbformat": 4,
 "nbformat_minor": 4
}
