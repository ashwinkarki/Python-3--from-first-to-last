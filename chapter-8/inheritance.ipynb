{
 "cells": [
  {
   "cell_type": "code",
   "execution_count": 6,
   "metadata": {},
   "outputs": [
    {
     "name": "stdout",
     "output_type": "stream",
     "text": [
      "going to be deleted\n",
      "The kitten is named \"fluffy\" and says \"rwar\".\n",
      "The duck is named \"donald\" and says \"quack\".\n"
     ]
    }
   ],
   "source": [
    "#!/usr/bin/env python3\n",
    "# Copyright 2009-2017 BHG http://bw.org/\n",
    "\n",
    "class Animal:\n",
    "    def __init__(self, **kwargs):\n",
    "        if 'type' in kwargs: self._type = kwargs['type']\n",
    "        if 'name' in kwargs: self._name = kwargs['name']\n",
    "        if 'sound' in kwargs: self._sound = kwargs['sound']\n",
    "\n",
    "    def type(self, t = None):\n",
    "        if t: self._type = t\n",
    "        try: return self._type\n",
    "        except AttributeError: return None\n",
    "\n",
    "    def name(self, n = None):\n",
    "        if n: self._name = n\n",
    "        try: return self._name\n",
    "        except AttributeError: return None\n",
    "\n",
    "    def sound(self, s = None):\n",
    "        if s: self._sound = s\n",
    "        try: return self._sound\n",
    "        except AttributeError: return None\n",
    "\n",
    "class Duck(Animal):\n",
    "    def __init__(self, **kwargs):\n",
    "        self._type = 'duck'\n",
    "        if 'type' in kwargs: \n",
    "            print('going to be deleted') \n",
    "            del kwargs['type']\n",
    "        super().__init__(**kwargs)\n",
    "\n",
    "class Kitten(Animal):\n",
    "    def __init__(self, **kwargs):\n",
    "        self._type = 'kitten'\n",
    "        if 'type' in kwargs: del kwargs['type']\n",
    "        super().__init__(**kwargs)\n",
    "\n",
    "def print_animal(o):\n",
    "    if not isinstance(o, Animal):\n",
    "        raise TypeError('print_animal(): requires an Animal')\n",
    "    print(f'The {o.type()} is named \"{o.name()}\" and says \"{o.sound()}\".')\n",
    "\n",
    "def main():\n",
    "    a0 = Kitten(name = 'fluffy', sound = 'rwar')\n",
    "    a1 = Duck(type='ashwin',name = 'donald', sound = 'quack')\n",
    "    print_animal(a0)\n",
    "    print_animal(a1)\n",
    "\n",
    "if __name__ == '__main__': main()\n"
   ]
  },
  {
   "cell_type": "code",
   "execution_count": 7,
   "metadata": {},
   "outputs": [
    {
     "name": "stdout",
     "output_type": "stream",
     "text": [
      ".dlroW ,olleH\n"
     ]
    }
   ],
   "source": [
    "#!/usr/bin/env python3\n",
    "# Copyright 2009-2017 BHG http://bw.org/\n",
    "\n",
    "class RevStr(str):\n",
    "    \n",
    "    #method overriding of str class\n",
    "    def __str__(self):\n",
    "        return self[::-1]\n",
    "\n",
    "def main():\n",
    "    hello = RevStr('Hello, World.')\n",
    "    print(hello)\n",
    "\n",
    "if __name__ == '__main__': main()\n"
   ]
  },
  {
   "cell_type": "code",
   "execution_count": null,
   "metadata": {},
   "outputs": [],
   "source": []
  }
 ],
 "metadata": {
  "kernelspec": {
   "display_name": "Python 3",
   "language": "python",
   "name": "python3"
  },
  "language_info": {
   "codemirror_mode": {
    "name": "ipython",
    "version": 3
   },
   "file_extension": ".py",
   "mimetype": "text/x-python",
   "name": "python",
   "nbconvert_exporter": "python",
   "pygments_lexer": "ipython3",
   "version": "3.8.2"
  }
 },
 "nbformat": 4,
 "nbformat_minor": 4
}
