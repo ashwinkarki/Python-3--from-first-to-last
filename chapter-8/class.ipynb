{
 "cells": [
  {
   "cell_type": "code",
   "execution_count": 2,
   "metadata": {},
   "outputs": [
    {
     "name": "stdout",
     "output_type": "stream",
     "text": [
      "Quack quack.\n",
      "Walks like a duck.\n",
      "Quack quack.\n",
      "Walks like a duck.\n"
     ]
    }
   ],
   "source": [
    "#!/usr/bin/env python3\n",
    "# Copyright 2009-2017 BHG http://bw.org/\n",
    "\n",
    "class Duck:\n",
    "    sound = 'Quack quack.'\n",
    "    movement = 'Walks like a duck.'\n",
    "\n",
    "    def quack(self):\n",
    "        print(self.sound)\n",
    "\n",
    "    def move(self):\n",
    "        print(self.movement)\n",
    "\n",
    "def main():\n",
    "    donald = Duck()\n",
    "    donald.quack()\n",
    "    donald.move()\n",
    "    \n",
    "    mickey=Duck()\n",
    "    mickey.quack()\n",
    "    mickey.move()\n",
    "\n",
    "if __name__ == '__main__': main()\n"
   ]
  },
  {
   "cell_type": "code",
   "execution_count": null,
   "metadata": {},
   "outputs": [],
   "source": []
  }
 ],
 "metadata": {
  "kernelspec": {
   "display_name": "Python 3",
   "language": "python",
   "name": "python3"
  },
  "language_info": {
   "codemirror_mode": {
    "name": "ipython",
    "version": 3
   },
   "file_extension": ".py",
   "mimetype": "text/x-python",
   "name": "python",
   "nbconvert_exporter": "python",
   "pygments_lexer": "ipython3",
   "version": "3.8.2"
  }
 },
 "nbformat": 4,
 "nbformat_minor": 4
}
