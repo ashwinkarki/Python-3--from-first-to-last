{
 "cells": [
  {
   "cell_type": "code",
   "execution_count": 10,
   "metadata": {},
   "outputs": [
    {
     "name": "stdout",
     "output_type": "stream",
     "text": [
      "365 days, 5:01:00\n",
      "today is 2020-09-03 20:41:11.217762\n",
      "one year it will be from today is2021-09-03 20:41:11.217762\n",
      "In 2 days and 3weeek from today is2020-09-26 20:41:11.217762\n",
      "onw week ago it was Thursday August 27,2020\n",
      "april fool day has already gone 155 days ago\n",
      "It's just 210 days until April fool day\n"
     ]
    }
   ],
   "source": [
    "#\n",
    "# Example file for working with timedelta objects\n",
    "#\n",
    "\n",
    "from datetime import date\n",
    "from datetime import time\n",
    "from datetime import datetime\n",
    "from datetime import timedelta\n",
    "\n",
    "\n",
    "# construct a basic timedelta and print it\n",
    "print(timedelta(days=365,hours=5,minutes=1))\n",
    "\n",
    "# print today's date\n",
    "now=datetime.now()\n",
    "print(\"today is \"+str(now))\n",
    "\n",
    "# print today's date one year from now\n",
    "print(\"one year it will be from today is\"+str(now+timedelta(days=365)))\n",
    "\n",
    "# create a timedelta that uses more than one argument\n",
    "print(\"In 2 days and 3weeek from today is\"+str(now+timedelta(days=2,weeks=3)))\n",
    "\n",
    "# calculate the date 1 week ago, formatted as a string\n",
    "t=datetime.now()-timedelta(weeks=1)\n",
    "s=t.strftime(\"%A %B %d,%Y\")\n",
    "print(\"onw week ago it was\",s)\n",
    "\n",
    "### How many days until April Fools' Day?\n",
    "today=date.today()\n",
    "afd=date(today.year,4,1)\n",
    "\n",
    "# use date comparison to see if April Fool's has already gone for this year\n",
    "# if it has, use the replace() function to get the date for next year\n",
    "if today>afd:\n",
    "    print('april fool day has already gone %d days ago' %(today-afd).days)\n",
    "    afd=afd.replace(year=today.year+1)\n",
    "\n",
    "# Now calculate the amount of time until April Fool's Day  \n",
    "time_to_afd=afd-today\n",
    "print(\"It's just\",time_to_afd.days,\"days until April fool day\")\n",
    "\n"
   ]
  },
  {
   "cell_type": "code",
   "execution_count": null,
   "metadata": {},
   "outputs": [],
   "source": []
  }
 ],
 "metadata": {
  "kernelspec": {
   "display_name": "Python 3",
   "language": "python",
   "name": "python3"
  },
  "language_info": {
   "codemirror_mode": {
    "name": "ipython",
    "version": 3
   },
   "file_extension": ".py",
   "mimetype": "text/x-python",
   "name": "python",
   "nbconvert_exporter": "python",
   "pygments_lexer": "ipython3",
   "version": "3.8.2"
  }
 },
 "nbformat": 4,
 "nbformat_minor": 4
}
