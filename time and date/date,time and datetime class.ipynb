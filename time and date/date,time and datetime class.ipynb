{
 "cells": [
  {
   "cell_type": "code",
   "execution_count": 9,
   "metadata": {},
   "outputs": [
    {
     "name": "stdout",
     "output_type": "stream",
     "text": [
      "Today's date is 2020-09-03\n",
      "dates component 3 9 2020\n",
      "todays weekday is 3\n",
      "Which is a: thu\n",
      "the current date and time is 2020-09-03 18:37:13.427557\n",
      "18:37:13.427557\n"
     ]
    }
   ],
   "source": [
    "#\n",
    "# Example file for working with date information\n",
    "#\n",
    "from datetime import date\n",
    "from datetime import time\n",
    "from datetime import datetime\n",
    "\n",
    "def main():\n",
    "  ## DATE OBJECTS\n",
    "  # Get today's date from the simple today() method from the date class\n",
    "  today=date.today()\n",
    "  print('Today\\'s date is',today)\n",
    "\n",
    "  # print out the date's individual components\n",
    "  print(\"dates component\",today.day,today.month,today.year)\n",
    "  \n",
    "  # retrieve today's weekday (0=Monday, 6=Sunday)\n",
    "  print('todays weekday is',today.weekday())\n",
    "  days=[\"mon\",\"tue\",\"wed\",\"thu\",\"fri\",\"sat\",\"sun\"]\n",
    "  print('Which is a:',days[today.weekday()])  \n",
    "  \n",
    "  ## DATETIME OBJECTS\n",
    "  # Get today's date from the datetime class\n",
    "  today=datetime.now()\n",
    "  print(\"the current date and time is\",today)\n",
    "  t=datetime.time(datetime.now())\n",
    "  print(t)\n",
    "  # Get the current time\n",
    "\n",
    "\n",
    "  \n",
    "if __name__ == \"__main__\":\n",
    "  main();\n",
    "  "
   ]
  },
  {
   "cell_type": "code",
   "execution_count": null,
   "metadata": {},
   "outputs": [],
   "source": []
  }
 ],
 "metadata": {
  "kernelspec": {
   "display_name": "Python 3",
   "language": "python",
   "name": "python3"
  },
  "language_info": {
   "codemirror_mode": {
    "name": "ipython",
    "version": 3
   },
   "file_extension": ".py",
   "mimetype": "text/x-python",
   "name": "python",
   "nbconvert_exporter": "python",
   "pygments_lexer": "ipython3",
   "version": "3.8.2"
  }
 },
 "nbformat": 4,
 "nbformat_minor": 4
}
