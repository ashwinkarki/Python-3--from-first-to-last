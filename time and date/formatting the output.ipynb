{
 "cells": [
  {
   "cell_type": "code",
   "execution_count": 7,
   "metadata": {},
   "outputs": [
    {
     "name": "stdout",
     "output_type": "stream",
     "text": [
      "The current year is 2020\n",
      "The current year is Thu ,03,September,20\n",
      "Local date and time Thu Sep  3 19:50:09 2020\n",
      "Local date and time 09/03/20\n",
      "Local date and time 19:50:09\n",
      "CUrrent time: 07:50:09 PM\n",
      "CUrrent time: 19:50:09 PM\n"
     ]
    }
   ],
   "source": [
    "#\n",
    "# Example file for formatting time and date output\n",
    "#\n",
    "\n",
    "from datetime import datetime\n",
    "\n",
    "def main():\n",
    "  # Times and dates can be formatted using a set of predefined string\n",
    "  # control codes \n",
    "  now=datetime.now()  \n",
    "\n",
    "  #### Date Formatting ####\n",
    "  \n",
    "  # %y/%Y - Year, %a/%A - weekday, %b/%B - month, %d - day of month\n",
    "  print(now.strftime('The current year is %Y'))\n",
    "  print(now.strftime('The current year is %a ,%d,%B,%y'))\n",
    "\n",
    "  # %c - locale's date and time, %x - locale's date, %X - locale's time\n",
    "  print(now.strftime(\"Local date and time %c\"))\n",
    "  print(now.strftime(\"Local date and time %x\"))\n",
    "  print(now.strftime(\"Local date and time %X\"))\n",
    "\n",
    "  #### Time Formatting ####\n",
    "  \n",
    "  # %I/%H - 12/24 Hour, %M - minute, %S - second, %p - locale's AM/PM\n",
    "  print(now.strftime(\"CUrrent time: %I:%M:%S %p\"))\n",
    "  print(now.strftime(\"CUrrent time: %H:%M:%S %p\"))\n",
    "\n",
    "if __name__ == \"__main__\":\n",
    "  main();\n"
   ]
  },
  {
   "cell_type": "code",
   "execution_count": null,
   "metadata": {},
   "outputs": [],
   "source": []
  }
 ],
 "metadata": {
  "kernelspec": {
   "display_name": "Python 3",
   "language": "python",
   "name": "python3"
  },
  "language_info": {
   "codemirror_mode": {
    "name": "ipython",
    "version": 3
   },
   "file_extension": ".py",
   "mimetype": "text/x-python",
   "name": "python",
   "nbconvert_exporter": "python",
   "pygments_lexer": "ipython3",
   "version": "3.8.2"
  }
 },
 "nbformat": 4,
 "nbformat_minor": 4
}
