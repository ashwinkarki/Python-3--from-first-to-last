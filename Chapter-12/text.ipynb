{
 "cells": [
  {
   "cell_type": "code",
   "execution_count": 6,
   "metadata": {},
   "outputs": [
    {
     "name": "stdout",
     "output_type": "stream",
     "text": [
      "....\n",
      "done.\n"
     ]
    }
   ],
   "source": [
    "#!/usr/bin/env python3\n",
    "# Copyright 2009-2017 BHG http://bw.org/\n",
    "\n",
    "def main():\n",
    "    #read the text file rt\n",
    "    infile = open('lines.txt', 'rt')\n",
    "    \n",
    "    #write the text file\n",
    "    outfile = open('lines-copy.txt', 'wt')\n",
    "    \n",
    "    for line in infile:\n",
    "        #print(line.rstrip(), file=outfile)\n",
    "        outfile.writelines(line)\n",
    "        print('.', end='', flush=True)\n",
    "    outfile.close()\n",
    "    print('\\ndone.')\n",
    "\n",
    "if __name__ == '__main__': main()\n"
   ]
  },
  {
   "cell_type": "code",
   "execution_count": null,
   "metadata": {},
   "outputs": [],
   "source": []
  }
 ],
 "metadata": {
  "kernelspec": {
   "display_name": "Python 3",
   "language": "python",
   "name": "python3"
  },
  "language_info": {
   "codemirror_mode": {
    "name": "ipython",
    "version": 3
   },
   "file_extension": ".py",
   "mimetype": "text/x-python",
   "name": "python",
   "nbconvert_exporter": "python",
   "pygments_lexer": "ipython3",
   "version": "3.8.2"
  }
 },
 "nbformat": 4,
 "nbformat_minor": 4
}
