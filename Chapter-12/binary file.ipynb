{
 "cells": [
  {
   "cell_type": "code",
   "execution_count": 2,
   "metadata": {},
   "outputs": [
    {
     "name": "stdout",
     "output_type": "stream",
     "text": [
      ".....................................................\n",
      "done.\n"
     ]
    }
   ],
   "source": [
    "\n",
    "#rb -> read a binary file\n",
    "#wb -> write a binaru file\n",
    "def main():\n",
    "    infile = open('berlin.jpg', 'rb')\n",
    "    outfile = open('berlin-copy.jpg', 'wb')\n",
    "    while True:\n",
    "        buf = infile.read(10240)\n",
    "        if buf:\n",
    "            outfile.write(buf)\n",
    "            print('.', end='', flush=True)\n",
    "        else: break\n",
    "    outfile.close()\n",
    "    print('\\ndone.')\n",
    "\n",
    "if __name__ == '__main__': main()\n"
   ]
  },
  {
   "cell_type": "code",
   "execution_count": null,
   "metadata": {},
   "outputs": [],
   "source": []
  }
 ],
 "metadata": {
  "kernelspec": {
   "display_name": "Python 3",
   "language": "python",
   "name": "python3"
  },
  "language_info": {
   "codemirror_mode": {
    "name": "ipython",
    "version": 3
   },
   "file_extension": ".py",
   "mimetype": "text/x-python",
   "name": "python",
   "nbconvert_exporter": "python",
   "pygments_lexer": "ipython3",
   "version": "3.8.2"
  }
 },
 "nbformat": 4,
 "nbformat_minor": 4
}
