{
 "cells": [
  {
   "cell_type": "code",
   "execution_count": 1,
   "metadata": {},
   "outputs": [
    {
     "name": "stdout",
     "output_type": "stream",
     "text": [
      "1:What's the secret word? \n",
      "2:What's the secret word? anil\n",
      "4:What's the secret word? ashwin\n",
      "5:What's the secret word? asd\n",
      "Calling the FBI\n"
     ]
    }
   ],
   "source": [
    "#!/usr/bin/env python3\n",
    "# Copyright 2009-2017 BHG http://bw.org/\n",
    "\n",
    "secret = 'swordfish'\n",
    "pw = ''\n",
    "count=0\n",
    "max_attempt=5\n",
    "auth=False\n",
    "\n",
    "while pw != secret:\n",
    "    count +=1\n",
    "    if count>max_attempt: break\n",
    "    if count ==3:continue    \n",
    "    pw = input(f\"{count}:What's the secret word? \")\n",
    "else:\n",
    "    auth=True    \n",
    "print(\"Autorized\" if auth else 'Calling the FBI')"
   ]
  },
  {
   "cell_type": "code",
   "execution_count": 6,
   "metadata": {},
   "outputs": [
    {
     "name": "stdout",
     "output_type": "stream",
     "text": [
      "bunny\n",
      "dog\n",
      "cat\n"
     ]
    }
   ],
   "source": [
    "#!/usr/bin/env python3\n",
    "# Copyright 2009-2017 BHG http://bw.org/\n",
    "\n",
    "animals = ( 'bear', 'bunny', 'dog', 'cat', 'velociraptor' )\n",
    "\n",
    "for pet in animals:\n",
    "    #continue skips statement after continue\n",
    "    if pet == 'bear':continue\n",
    "    if pet == 'velociraptor': break    \n",
    "    print(pet)\n",
    "else:\n",
    "    print(\"Everything finished\")\n"
   ]
  },
  {
   "cell_type": "code",
   "execution_count": null,
   "metadata": {},
   "outputs": [],
   "source": []
  }
 ],
 "metadata": {
  "kernelspec": {
   "display_name": "Python 3",
   "language": "python",
   "name": "python3"
  },
  "language_info": {
   "codemirror_mode": {
    "name": "ipython",
    "version": 3
   },
   "file_extension": ".py",
   "mimetype": "text/x-python",
   "name": "python",
   "nbconvert_exporter": "python",
   "pygments_lexer": "ipython3",
   "version": "3.8.2"
  }
 },
 "nbformat": 4,
 "nbformat_minor": 4
}
