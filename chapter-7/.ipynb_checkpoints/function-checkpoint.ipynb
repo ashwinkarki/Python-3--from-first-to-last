{
 "cells": [
  {
   "cell_type": "code",
   "execution_count": 1,
   "metadata": {},
   "outputs": [
    {
     "name": "stdout",
     "output_type": "stream",
     "text": [
      "Meow.\n"
     ]
    }
   ],
   "source": [
    "#!/usr/bin/env python3\n",
    "# Copyright 2009-2017 BHG http://bw.org/\n",
    "\n",
    "def main():\n",
    "    kitten()\n",
    "\n",
    "def kitten():\n",
    "    print('Meow.')\n",
    "\n",
    "if __name__ == '__main__': main()\n"
   ]
  },
  {
   "cell_type": "code",
   "execution_count": 2,
   "metadata": {},
   "outputs": [
    {
     "name": "stdout",
     "output_type": "stream",
     "text": [
      "Meow.\n",
      "5 6 7\n"
     ]
    }
   ],
   "source": [
    "#!/usr/bin/env python3\n",
    "# Copyright 2009-2017 BHG http://bw.org/\n",
    "\n",
    "def main():\n",
    "    kitten(5,6,7)\n",
    "\n",
    "def kitten(a,b,c):\n",
    "    print('Meow.')\n",
    "    print(a,b,c)\n",
    "\n",
    "if __name__ == '__main__': main()\n"
   ]
  },
  {
   "cell_type": "code",
   "execution_count": 5,
   "metadata": {},
   "outputs": [
    {
     "name": "stdout",
     "output_type": "stream",
     "text": [
      "Meow.\n",
      "5 1 0\n"
     ]
    }
   ],
   "source": [
    "\n",
    "def main():\n",
    "    kitten(5)\n",
    "\n",
    "def kitten(a,b=1,c=0):\n",
    "    print('Meow.')\n",
    "    print(a,b,c)\n",
    "\n",
    "if __name__ == '__main__': main()\n"
   ]
  },
  {
   "cell_type": "code",
   "execution_count": 6,
   "metadata": {},
   "outputs": [
    {
     "ename": "SyntaxError",
     "evalue": "non-default argument follows default argument (<ipython-input-6-b06513ab09ca>, line 5)",
     "output_type": "error",
     "traceback": [
      "\u001b[1;36m  File \u001b[1;32m\"<ipython-input-6-b06513ab09ca>\"\u001b[1;36m, line \u001b[1;32m5\u001b[0m\n\u001b[1;33m    def kitten(a,b=1,c=0,d):\u001b[0m\n\u001b[1;37m               ^\u001b[0m\n\u001b[1;31mSyntaxError\u001b[0m\u001b[1;31m:\u001b[0m non-default argument follows default argument\n"
     ]
    }
   ],
   "source": [
    "def main():\n",
    "    kitten(5)\n",
    "\n",
    " #defualt argument must be at last but 'd' is at last after default arguement so error.Remove d and it works   \n",
    "def kitten(a,b=1,c=0,d):\n",
    "    print('Meow.')\n",
    "    print(a,b,c)\n",
    "\n",
    "if __name__ == '__main__': main()"
   ]
  },
  {
   "cell_type": "code",
   "execution_count": null,
   "metadata": {},
   "outputs": [],
   "source": []
  }
 ],
 "metadata": {
  "kernelspec": {
   "display_name": "Python 3",
   "language": "python",
   "name": "python3"
  },
  "language_info": {
   "codemirror_mode": {
    "name": "ipython",
    "version": 3
   },
   "file_extension": ".py",
   "mimetype": "text/x-python",
   "name": "python",
   "nbconvert_exporter": "python",
   "pygments_lexer": "ipython3",
   "version": "3.8.2"
  }
 },
 "nbformat": 4,
 "nbformat_minor": 4
}
