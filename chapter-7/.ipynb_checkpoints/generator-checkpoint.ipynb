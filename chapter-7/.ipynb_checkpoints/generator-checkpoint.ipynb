{
 "cells": [
  {
   "cell_type": "code",
   "execution_count": 1,
   "metadata": {},
   "outputs": [
    {
     "name": "stdout",
     "output_type": "stream",
     "text": [
      "1\n",
      "0 1 2 3 4 5 6 7 8 9 10 11 12 13 14 15 16 17 18 19 20 21 22 23 24 25 \n"
     ]
    }
   ],
   "source": [
    "#!/usr/bin/env python3\n",
    "# Copyright 2009-2017 BHG http://bw.org/\n",
    "\n",
    "def main():\n",
    "    for i in inclusive_range(25):\n",
    "        print(i, end = ' ')\n",
    "    print()\n",
    "\n",
    "def inclusive_range(*args):\n",
    "    numargs = len(args)\n",
    "    start = 0\n",
    "    step = 1\n",
    "    print(numargs)\n",
    "    # initialize parameters\n",
    "    if numargs < 1:\n",
    "        raise TypeError(f'expected at least 1 argument, got {numargs}')\n",
    "    elif numargs == 1:\n",
    "        stop = args[0]\n",
    "    elif numargs == 2:\n",
    "         (start, stop)=args \n",
    "    elif numargs == 3:\n",
    "        (start, stop, step) = args\n",
    "    else: raise TypeError(f'expected at most 3 arguments, got {numargs}')\n",
    "\n",
    "    # generator\n",
    "    i = start\n",
    "    while i <= stop:\n",
    "        yield i\n",
    "        i += step\n",
    "\n",
    "if __name__ == '__main__': main()\n"
   ]
  },
  {
   "cell_type": "code",
   "execution_count": null,
   "metadata": {},
   "outputs": [],
   "source": []
  }
 ],
 "metadata": {
  "kernelspec": {
   "display_name": "Python 3",
   "language": "python",
   "name": "python3"
  },
  "language_info": {
   "codemirror_mode": {
    "name": "ipython",
    "version": 3
   },
   "file_extension": ".py",
   "mimetype": "text/x-python",
   "name": "python",
   "nbconvert_exporter": "python",
   "pygments_lexer": "ipython3",
   "version": "3.8.2"
  }
 },
 "nbformat": 4,
 "nbformat_minor": 4
}
