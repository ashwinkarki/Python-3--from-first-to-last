{
 "cells": [
  {
   "cell_type": "code",
   "execution_count": 4,
   "metadata": {},
   "outputs": [
    {
     "name": "stdout",
     "output_type": "stream",
     "text": [
      "Kitten Buffy says meow\n",
      "Kitten Zilla says grr\n",
      "Kitten Angel says rawr\n"
     ]
    }
   ],
   "source": [
    "#kwyword argument\n",
    "\n",
    "def main():\n",
    "    kitten(Buffy = 'meow', Zilla = 'grr', Angel = 'rawr')\n",
    "\n",
    "def kitten(**kwargs):\n",
    "    if len(kwargs):\n",
    "        for k in kwargs:\n",
    "            print('Kitten {} says {}'.format(k, kwargs[k]))\n",
    "    else: print('Meow.')\n",
    "\n",
    "if __name__ == '__main__': main()\n"
   ]
  },
  {
   "cell_type": "code",
   "execution_count": 3,
   "metadata": {},
   "outputs": [
    {
     "name": "stdout",
     "output_type": "stream",
     "text": [
      "Kitten Buffy says meow\n",
      "Kitten Zilla says grr\n",
      "Kitten Angel says rawr\n"
     ]
    }
   ],
   "source": [
    "#kwyword argument\n",
    "#two asterick for passing the dictoinary\n",
    "def main():\n",
    "    x=dict(Buffy = 'meow', Zilla = 'grr', Angel = 'rawr')\n",
    "    kitten(**x)\n",
    "\n",
    "def kitten(**kwargs):\n",
    "    if len(kwargs):\n",
    "        for k in kwargs:\n",
    "            print('Kitten {} says {}'.format(k, kwargs[k]))\n",
    "    else: print('Meow.')\n",
    "\n",
    "if __name__ == '__main__': main()"
   ]
  },
  {
   "cell_type": "code",
   "execution_count": null,
   "metadata": {},
   "outputs": [],
   "source": []
  }
 ],
 "metadata": {
  "kernelspec": {
   "display_name": "Python 3",
   "language": "python",
   "name": "python3"
  },
  "language_info": {
   "codemirror_mode": {
    "name": "ipython",
    "version": 3
   },
   "file_extension": ".py",
   "mimetype": "text/x-python",
   "name": "python",
   "nbconvert_exporter": "python",
   "pygments_lexer": "ipython3",
   "version": "3.8.2"
  }
 },
 "nbformat": 4,
 "nbformat_minor": 4
}
